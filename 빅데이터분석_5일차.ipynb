{
 "cells": [
  {
   "cell_type": "markdown",
   "id": "d20db200",
   "metadata": {},
   "source": [
    "# <font color=blue>빅데이터 분석 Cheat Sheet - 100가지 핵심기법</font>"
   ]
  },
  {
   "cell_type": "code",
   "execution_count": 1,
   "id": "7fc739b8",
   "metadata": {},
   "outputs": [],
   "source": [
    "import numpy as np\n",
    "import pandas as pd\n",
    "import matplotlib.pyplot as plt\n",
    "import seaborn as sns"
   ]
  },
  {
   "cell_type": "code",
   "execution_count": 2,
   "id": "736c293d",
   "metadata": {},
   "outputs": [],
   "source": [
    "import warnings\n",
    "warnings.filterwarnings('ignore')"
   ]
  },
  {
   "cell_type": "markdown",
   "id": "72666b29",
   "metadata": {},
   "source": [
    "### 데이터 로딩"
   ]
  },
  {
   "cell_type": "code",
   "execution_count": 11,
   "id": "c236768e",
   "metadata": {},
   "outputs": [],
   "source": [
    "df = pd.read_csv('titanic.csv')"
   ]
  },
  {
   "cell_type": "code",
   "execution_count": 4,
   "id": "09f1a9b5",
   "metadata": {},
   "outputs": [
    {
     "data": {
      "text/plain": [
       "array(['S', 'C', 'Q', nan], dtype=object)"
      ]
     },
     "execution_count": 4,
     "metadata": {},
     "output_type": "execute_result"
    }
   ],
   "source": [
    "df['Embarked'].unique()"
   ]
  },
  {
   "cell_type": "code",
   "execution_count": 10,
   "id": "7085a506",
   "metadata": {},
   "outputs": [
    {
     "data": {
      "text/html": [
       "<div>\n",
       "<style scoped>\n",
       "    .dataframe tbody tr th:only-of-type {\n",
       "        vertical-align: middle;\n",
       "    }\n",
       "\n",
       "    .dataframe tbody tr th {\n",
       "        vertical-align: top;\n",
       "    }\n",
       "\n",
       "    .dataframe thead th {\n",
       "        text-align: right;\n",
       "    }\n",
       "</style>\n",
       "<table border=\"1\" class=\"dataframe\">\n",
       "  <thead>\n",
       "    <tr style=\"text-align: right;\">\n",
       "      <th></th>\n",
       "      <th>PassengerId</th>\n",
       "      <th>Survived</th>\n",
       "      <th>Pclass</th>\n",
       "      <th>Name</th>\n",
       "      <th>Sex</th>\n",
       "      <th>Age</th>\n",
       "      <th>SibSp</th>\n",
       "      <th>Parch</th>\n",
       "      <th>Ticket</th>\n",
       "      <th>Fare</th>\n",
       "      <th>Cabin</th>\n",
       "      <th>Embarked</th>\n",
       "    </tr>\n",
       "  </thead>\n",
       "  <tbody>\n",
       "  </tbody>\n",
       "</table>\n",
       "</div>"
      ],
      "text/plain": [
       "Empty DataFrame\n",
       "Columns: [PassengerId, Survived, Pclass, Name, Sex, Age, SibSp, Parch, Ticket, Fare, Cabin, Embarked]\n",
       "Index: []"
      ]
     },
     "execution_count": 10,
     "metadata": {},
     "output_type": "execute_result"
    }
   ],
   "source": [
    "df"
   ]
  },
  {
   "cell_type": "code",
   "execution_count": 6,
   "id": "f5f430a8",
   "metadata": {},
   "outputs": [
    {
     "data": {
      "text/html": [
       "<div>\n",
       "<style scoped>\n",
       "    .dataframe tbody tr th:only-of-type {\n",
       "        vertical-align: middle;\n",
       "    }\n",
       "\n",
       "    .dataframe tbody tr th {\n",
       "        vertical-align: top;\n",
       "    }\n",
       "\n",
       "    .dataframe thead th {\n",
       "        text-align: right;\n",
       "    }\n",
       "</style>\n",
       "<table border=\"1\" class=\"dataframe\">\n",
       "  <thead>\n",
       "    <tr style=\"text-align: right;\">\n",
       "      <th></th>\n",
       "      <th>PassengerId</th>\n",
       "      <th>Survived</th>\n",
       "      <th>Pclass</th>\n",
       "      <th>Name</th>\n",
       "      <th>Sex</th>\n",
       "      <th>Age</th>\n",
       "      <th>SibSp</th>\n",
       "      <th>Parch</th>\n",
       "      <th>Ticket</th>\n",
       "      <th>Fare</th>\n",
       "      <th>Cabin</th>\n",
       "      <th>Embarked</th>\n",
       "    </tr>\n",
       "  </thead>\n",
       "  <tbody>\n",
       "  </tbody>\n",
       "</table>\n",
       "</div>"
      ],
      "text/plain": [
       "Empty DataFrame\n",
       "Columns: [PassengerId, Survived, Pclass, Name, Sex, Age, SibSp, Parch, Ticket, Fare, Cabin, Embarked]\n",
       "Index: []"
      ]
     },
     "execution_count": 6,
     "metadata": {},
     "output_type": "execute_result"
    }
   ],
   "source": [
    "df.drop(df.index, inplace=True)\n",
    "df"
   ]
  },
  {
   "cell_type": "code",
   "execution_count": 12,
   "id": "357a56a2",
   "metadata": {},
   "outputs": [
    {
     "data": {
      "text/html": [
       "<div>\n",
       "<style scoped>\n",
       "    .dataframe tbody tr th:only-of-type {\n",
       "        vertical-align: middle;\n",
       "    }\n",
       "\n",
       "    .dataframe tbody tr th {\n",
       "        vertical-align: top;\n",
       "    }\n",
       "\n",
       "    .dataframe thead th {\n",
       "        text-align: right;\n",
       "    }\n",
       "</style>\n",
       "<table border=\"1\" class=\"dataframe\">\n",
       "  <thead>\n",
       "    <tr style=\"text-align: right;\">\n",
       "      <th></th>\n",
       "      <th>PassengerId</th>\n",
       "      <th>Survived</th>\n",
       "      <th>Pclass</th>\n",
       "      <th>Name</th>\n",
       "      <th>Sex</th>\n",
       "      <th>Age</th>\n",
       "      <th>SibSp</th>\n",
       "      <th>Parch</th>\n",
       "      <th>Ticket</th>\n",
       "      <th>Fare</th>\n",
       "      <th>Cabin</th>\n",
       "      <th>Embarked</th>\n",
       "    </tr>\n",
       "  </thead>\n",
       "  <tbody>\n",
       "    <tr>\n",
       "      <th>0</th>\n",
       "      <td>1</td>\n",
       "      <td>0</td>\n",
       "      <td>3</td>\n",
       "      <td>Braund, Mr. Owen Harris</td>\n",
       "      <td>male</td>\n",
       "      <td>22.0</td>\n",
       "      <td>1</td>\n",
       "      <td>0</td>\n",
       "      <td>A/5 21171</td>\n",
       "      <td>7.2500</td>\n",
       "      <td>NaN</td>\n",
       "      <td>S</td>\n",
       "    </tr>\n",
       "    <tr>\n",
       "      <th>1</th>\n",
       "      <td>2</td>\n",
       "      <td>1</td>\n",
       "      <td>1</td>\n",
       "      <td>Cumings, Mrs. John Bradley (Florence Briggs Th...</td>\n",
       "      <td>female</td>\n",
       "      <td>38.0</td>\n",
       "      <td>1</td>\n",
       "      <td>0</td>\n",
       "      <td>PC 17599</td>\n",
       "      <td>71.2833</td>\n",
       "      <td>C85</td>\n",
       "      <td>C</td>\n",
       "    </tr>\n",
       "    <tr>\n",
       "      <th>2</th>\n",
       "      <td>3</td>\n",
       "      <td>1</td>\n",
       "      <td>3</td>\n",
       "      <td>Heikkinen, Miss. Laina</td>\n",
       "      <td>female</td>\n",
       "      <td>26.0</td>\n",
       "      <td>0</td>\n",
       "      <td>0</td>\n",
       "      <td>STON/O2. 3101282</td>\n",
       "      <td>7.9250</td>\n",
       "      <td>NaN</td>\n",
       "      <td>S</td>\n",
       "    </tr>\n",
       "    <tr>\n",
       "      <th>3</th>\n",
       "      <td>4</td>\n",
       "      <td>1</td>\n",
       "      <td>1</td>\n",
       "      <td>Futrelle, Mrs. Jacques Heath (Lily May Peel)</td>\n",
       "      <td>female</td>\n",
       "      <td>35.0</td>\n",
       "      <td>1</td>\n",
       "      <td>0</td>\n",
       "      <td>113803</td>\n",
       "      <td>53.1000</td>\n",
       "      <td>C123</td>\n",
       "      <td>S</td>\n",
       "    </tr>\n",
       "    <tr>\n",
       "      <th>4</th>\n",
       "      <td>5</td>\n",
       "      <td>0</td>\n",
       "      <td>3</td>\n",
       "      <td>Allen, Mr. William Henry</td>\n",
       "      <td>male</td>\n",
       "      <td>35.0</td>\n",
       "      <td>0</td>\n",
       "      <td>0</td>\n",
       "      <td>373450</td>\n",
       "      <td>8.0500</td>\n",
       "      <td>NaN</td>\n",
       "      <td>S</td>\n",
       "    </tr>\n",
       "    <tr>\n",
       "      <th>...</th>\n",
       "      <td>...</td>\n",
       "      <td>...</td>\n",
       "      <td>...</td>\n",
       "      <td>...</td>\n",
       "      <td>...</td>\n",
       "      <td>...</td>\n",
       "      <td>...</td>\n",
       "      <td>...</td>\n",
       "      <td>...</td>\n",
       "      <td>...</td>\n",
       "      <td>...</td>\n",
       "      <td>...</td>\n",
       "    </tr>\n",
       "    <tr>\n",
       "      <th>886</th>\n",
       "      <td>887</td>\n",
       "      <td>0</td>\n",
       "      <td>2</td>\n",
       "      <td>Montvila, Rev. Juozas</td>\n",
       "      <td>male</td>\n",
       "      <td>27.0</td>\n",
       "      <td>0</td>\n",
       "      <td>0</td>\n",
       "      <td>211536</td>\n",
       "      <td>13.0000</td>\n",
       "      <td>NaN</td>\n",
       "      <td>S</td>\n",
       "    </tr>\n",
       "    <tr>\n",
       "      <th>887</th>\n",
       "      <td>888</td>\n",
       "      <td>1</td>\n",
       "      <td>1</td>\n",
       "      <td>Graham, Miss. Margaret Edith</td>\n",
       "      <td>female</td>\n",
       "      <td>19.0</td>\n",
       "      <td>0</td>\n",
       "      <td>0</td>\n",
       "      <td>112053</td>\n",
       "      <td>30.0000</td>\n",
       "      <td>B42</td>\n",
       "      <td>S</td>\n",
       "    </tr>\n",
       "    <tr>\n",
       "      <th>888</th>\n",
       "      <td>889</td>\n",
       "      <td>0</td>\n",
       "      <td>3</td>\n",
       "      <td>Johnston, Miss. Catherine Helen \"Carrie\"</td>\n",
       "      <td>female</td>\n",
       "      <td>NaN</td>\n",
       "      <td>1</td>\n",
       "      <td>2</td>\n",
       "      <td>W./C. 6607</td>\n",
       "      <td>23.4500</td>\n",
       "      <td>NaN</td>\n",
       "      <td>S</td>\n",
       "    </tr>\n",
       "    <tr>\n",
       "      <th>889</th>\n",
       "      <td>890</td>\n",
       "      <td>1</td>\n",
       "      <td>1</td>\n",
       "      <td>Behr, Mr. Karl Howell</td>\n",
       "      <td>male</td>\n",
       "      <td>26.0</td>\n",
       "      <td>0</td>\n",
       "      <td>0</td>\n",
       "      <td>111369</td>\n",
       "      <td>30.0000</td>\n",
       "      <td>C148</td>\n",
       "      <td>C</td>\n",
       "    </tr>\n",
       "    <tr>\n",
       "      <th>890</th>\n",
       "      <td>891</td>\n",
       "      <td>0</td>\n",
       "      <td>3</td>\n",
       "      <td>Dooley, Mr. Patrick</td>\n",
       "      <td>male</td>\n",
       "      <td>32.0</td>\n",
       "      <td>0</td>\n",
       "      <td>0</td>\n",
       "      <td>370376</td>\n",
       "      <td>7.7500</td>\n",
       "      <td>NaN</td>\n",
       "      <td>Q</td>\n",
       "    </tr>\n",
       "  </tbody>\n",
       "</table>\n",
       "<p>891 rows × 12 columns</p>\n",
       "</div>"
      ],
      "text/plain": [
       "     PassengerId  Survived  Pclass  \\\n",
       "0              1         0       3   \n",
       "1              2         1       1   \n",
       "2              3         1       3   \n",
       "3              4         1       1   \n",
       "4              5         0       3   \n",
       "..           ...       ...     ...   \n",
       "886          887         0       2   \n",
       "887          888         1       1   \n",
       "888          889         0       3   \n",
       "889          890         1       1   \n",
       "890          891         0       3   \n",
       "\n",
       "                                                  Name     Sex   Age  SibSp  \\\n",
       "0                              Braund, Mr. Owen Harris    male  22.0      1   \n",
       "1    Cumings, Mrs. John Bradley (Florence Briggs Th...  female  38.0      1   \n",
       "2                               Heikkinen, Miss. Laina  female  26.0      0   \n",
       "3         Futrelle, Mrs. Jacques Heath (Lily May Peel)  female  35.0      1   \n",
       "4                             Allen, Mr. William Henry    male  35.0      0   \n",
       "..                                                 ...     ...   ...    ...   \n",
       "886                              Montvila, Rev. Juozas    male  27.0      0   \n",
       "887                       Graham, Miss. Margaret Edith  female  19.0      0   \n",
       "888           Johnston, Miss. Catherine Helen \"Carrie\"  female   NaN      1   \n",
       "889                              Behr, Mr. Karl Howell    male  26.0      0   \n",
       "890                                Dooley, Mr. Patrick    male  32.0      0   \n",
       "\n",
       "     Parch            Ticket     Fare Cabin Embarked  \n",
       "0        0         A/5 21171   7.2500   NaN        S  \n",
       "1        0          PC 17599  71.2833   C85        C  \n",
       "2        0  STON/O2. 3101282   7.9250   NaN        S  \n",
       "3        0            113803  53.1000  C123        S  \n",
       "4        0            373450   8.0500   NaN        S  \n",
       "..     ...               ...      ...   ...      ...  \n",
       "886      0            211536  13.0000   NaN        S  \n",
       "887      0            112053  30.0000   B42        S  \n",
       "888      2        W./C. 6607  23.4500   NaN        S  \n",
       "889      0            111369  30.0000  C148        C  \n",
       "890      0            370376   7.7500   NaN        Q  \n",
       "\n",
       "[891 rows x 12 columns]"
      ]
     },
     "execution_count": 12,
     "metadata": {},
     "output_type": "execute_result"
    }
   ],
   "source": [
    "df_titanic = df[:]\n",
    "df_titanic"
   ]
  },
  {
   "cell_type": "code",
   "execution_count": 13,
   "id": "f8ad5112",
   "metadata": {},
   "outputs": [
    {
     "data": {
      "text/html": [
       "<div>\n",
       "<style scoped>\n",
       "    .dataframe tbody tr th:only-of-type {\n",
       "        vertical-align: middle;\n",
       "    }\n",
       "\n",
       "    .dataframe tbody tr th {\n",
       "        vertical-align: top;\n",
       "    }\n",
       "\n",
       "    .dataframe thead th {\n",
       "        text-align: right;\n",
       "    }\n",
       "</style>\n",
       "<table border=\"1\" class=\"dataframe\">\n",
       "  <thead>\n",
       "    <tr style=\"text-align: right;\">\n",
       "      <th></th>\n",
       "      <th>PassengerId</th>\n",
       "      <th>Survived</th>\n",
       "      <th>Pclass</th>\n",
       "      <th>Sex</th>\n",
       "      <th>Age</th>\n",
       "      <th>Fare</th>\n",
       "    </tr>\n",
       "    <tr>\n",
       "      <th>Name</th>\n",
       "      <th></th>\n",
       "      <th></th>\n",
       "      <th></th>\n",
       "      <th></th>\n",
       "      <th></th>\n",
       "      <th></th>\n",
       "    </tr>\n",
       "  </thead>\n",
       "  <tbody>\n",
       "    <tr>\n",
       "      <th>Braund, Mr. Owen Harris</th>\n",
       "      <td>1</td>\n",
       "      <td>0</td>\n",
       "      <td>3</td>\n",
       "      <td>male</td>\n",
       "      <td>22.0</td>\n",
       "      <td>7.2500</td>\n",
       "    </tr>\n",
       "    <tr>\n",
       "      <th>Cumings, Mrs. John Bradley (Florence Briggs Thayer)</th>\n",
       "      <td>2</td>\n",
       "      <td>1</td>\n",
       "      <td>1</td>\n",
       "      <td>female</td>\n",
       "      <td>38.0</td>\n",
       "      <td>71.2833</td>\n",
       "    </tr>\n",
       "    <tr>\n",
       "      <th>Heikkinen, Miss. Laina</th>\n",
       "      <td>3</td>\n",
       "      <td>1</td>\n",
       "      <td>3</td>\n",
       "      <td>female</td>\n",
       "      <td>26.0</td>\n",
       "      <td>7.9250</td>\n",
       "    </tr>\n",
       "    <tr>\n",
       "      <th>Futrelle, Mrs. Jacques Heath (Lily May Peel)</th>\n",
       "      <td>4</td>\n",
       "      <td>1</td>\n",
       "      <td>1</td>\n",
       "      <td>female</td>\n",
       "      <td>35.0</td>\n",
       "      <td>53.1000</td>\n",
       "    </tr>\n",
       "    <tr>\n",
       "      <th>Allen, Mr. William Henry</th>\n",
       "      <td>5</td>\n",
       "      <td>0</td>\n",
       "      <td>3</td>\n",
       "      <td>male</td>\n",
       "      <td>35.0</td>\n",
       "      <td>8.0500</td>\n",
       "    </tr>\n",
       "    <tr>\n",
       "      <th>...</th>\n",
       "      <td>...</td>\n",
       "      <td>...</td>\n",
       "      <td>...</td>\n",
       "      <td>...</td>\n",
       "      <td>...</td>\n",
       "      <td>...</td>\n",
       "    </tr>\n",
       "    <tr>\n",
       "      <th>Montvila, Rev. Juozas</th>\n",
       "      <td>887</td>\n",
       "      <td>0</td>\n",
       "      <td>2</td>\n",
       "      <td>male</td>\n",
       "      <td>27.0</td>\n",
       "      <td>13.0000</td>\n",
       "    </tr>\n",
       "    <tr>\n",
       "      <th>Graham, Miss. Margaret Edith</th>\n",
       "      <td>888</td>\n",
       "      <td>1</td>\n",
       "      <td>1</td>\n",
       "      <td>female</td>\n",
       "      <td>19.0</td>\n",
       "      <td>30.0000</td>\n",
       "    </tr>\n",
       "    <tr>\n",
       "      <th>Johnston, Miss. Catherine Helen \"Carrie\"</th>\n",
       "      <td>889</td>\n",
       "      <td>0</td>\n",
       "      <td>3</td>\n",
       "      <td>female</td>\n",
       "      <td>NaN</td>\n",
       "      <td>23.4500</td>\n",
       "    </tr>\n",
       "    <tr>\n",
       "      <th>Behr, Mr. Karl Howell</th>\n",
       "      <td>890</td>\n",
       "      <td>1</td>\n",
       "      <td>1</td>\n",
       "      <td>male</td>\n",
       "      <td>26.0</td>\n",
       "      <td>30.0000</td>\n",
       "    </tr>\n",
       "    <tr>\n",
       "      <th>Dooley, Mr. Patrick</th>\n",
       "      <td>891</td>\n",
       "      <td>0</td>\n",
       "      <td>3</td>\n",
       "      <td>male</td>\n",
       "      <td>32.0</td>\n",
       "      <td>7.7500</td>\n",
       "    </tr>\n",
       "  </tbody>\n",
       "</table>\n",
       "<p>891 rows × 6 columns</p>\n",
       "</div>"
      ],
      "text/plain": [
       "                                                    PassengerId  Survived  \\\n",
       "Name                                                                        \n",
       "Braund, Mr. Owen Harris                                       1         0   \n",
       "Cumings, Mrs. John Bradley (Florence Briggs Tha...            2         1   \n",
       "Heikkinen, Miss. Laina                                        3         1   \n",
       "Futrelle, Mrs. Jacques Heath (Lily May Peel)                  4         1   \n",
       "Allen, Mr. William Henry                                      5         0   \n",
       "...                                                         ...       ...   \n",
       "Montvila, Rev. Juozas                                       887         0   \n",
       "Graham, Miss. Margaret Edith                                888         1   \n",
       "Johnston, Miss. Catherine Helen \"Carrie\"                    889         0   \n",
       "Behr, Mr. Karl Howell                                       890         1   \n",
       "Dooley, Mr. Patrick                                         891         0   \n",
       "\n",
       "                                                    Pclass     Sex   Age  \\\n",
       "Name                                                                       \n",
       "Braund, Mr. Owen Harris                                  3    male  22.0   \n",
       "Cumings, Mrs. John Bradley (Florence Briggs Tha...       1  female  38.0   \n",
       "Heikkinen, Miss. Laina                                   3  female  26.0   \n",
       "Futrelle, Mrs. Jacques Heath (Lily May Peel)             1  female  35.0   \n",
       "Allen, Mr. William Henry                                 3    male  35.0   \n",
       "...                                                    ...     ...   ...   \n",
       "Montvila, Rev. Juozas                                    2    male  27.0   \n",
       "Graham, Miss. Margaret Edith                             1  female  19.0   \n",
       "Johnston, Miss. Catherine Helen \"Carrie\"                 3  female   NaN   \n",
       "Behr, Mr. Karl Howell                                    1    male  26.0   \n",
       "Dooley, Mr. Patrick                                      3    male  32.0   \n",
       "\n",
       "                                                       Fare  \n",
       "Name                                                         \n",
       "Braund, Mr. Owen Harris                              7.2500  \n",
       "Cumings, Mrs. John Bradley (Florence Briggs Tha...  71.2833  \n",
       "Heikkinen, Miss. Laina                               7.9250  \n",
       "Futrelle, Mrs. Jacques Heath (Lily May Peel)        53.1000  \n",
       "Allen, Mr. William Henry                             8.0500  \n",
       "...                                                     ...  \n",
       "Montvila, Rev. Juozas                               13.0000  \n",
       "Graham, Miss. Margaret Edith                        30.0000  \n",
       "Johnston, Miss. Catherine Helen \"Carrie\"            23.4500  \n",
       "Behr, Mr. Karl Howell                               30.0000  \n",
       "Dooley, Mr. Patrick                                  7.7500  \n",
       "\n",
       "[891 rows x 6 columns]"
      ]
     },
     "execution_count": 13,
     "metadata": {},
     "output_type": "execute_result"
    }
   ],
   "source": [
    "df = pd.read_csv('titanic.csv', index_col=3, usecols=['PassengerId','Name','Sex','Age',\n",
    "                                                      'Fare','Survived','Pclass'])\n",
    "df"
   ]
  },
  {
   "cell_type": "code",
   "execution_count": null,
   "id": "13318cc5",
   "metadata": {},
   "outputs": [],
   "source": [
    "df.to_csv('titanic_datamart.csv')"
   ]
  },
  {
   "cell_type": "code",
   "execution_count": null,
   "id": "cfdb6a57",
   "metadata": {},
   "outputs": [],
   "source": [
    "df = pd.read_excel('titanic_excel.xlsx', sheet_name='타이타닉 샘플', header=2, index_col=0)\n",
    "df"
   ]
  },
  {
   "cell_type": "code",
   "execution_count": null,
   "id": "00f37191",
   "metadata": {},
   "outputs": [],
   "source": [
    "df.to_excel('titanic_excel_오늘.xlsx', sheet_name='지금 막 만든 따끈따끈 한 탭')"
   ]
  },
  {
   "cell_type": "code",
   "execution_count": null,
   "id": "bdee3661",
   "metadata": {},
   "outputs": [],
   "source": [
    "lst_html = pd.read_html('https://finance.naver.com', encoding='euc-kr') # euckr, cp949, utf-8"
   ]
  },
  {
   "cell_type": "code",
   "execution_count": null,
   "id": "2da015b3",
   "metadata": {},
   "outputs": [],
   "source": [
    "lst_html[3]"
   ]
  },
  {
   "cell_type": "code",
   "execution_count": null,
   "id": "ac9b5da5",
   "metadata": {
    "scrolled": false
   },
   "outputs": [],
   "source": [
    "for i in range(len(lst_html)):\n",
    "    print(lst_html[i])\n",
    "    print('-'*80)"
   ]
  },
  {
   "cell_type": "markdown",
   "id": "592b9625",
   "metadata": {},
   "source": [
    "### 시리즈 (Series)"
   ]
  },
  {
   "cell_type": "code",
   "execution_count": null,
   "id": "5c15fc59",
   "metadata": {},
   "outputs": [],
   "source": [
    "s = pd.Series({'첫번째':'홍길동', '두번째':'성춘향', '세번째':'이몽룡'})\n",
    "s"
   ]
  },
  {
   "cell_type": "code",
   "execution_count": null,
   "id": "881d7fb7",
   "metadata": {},
   "outputs": [],
   "source": [
    "s = pd.Series( [34,17,16], index=['첫번째','두번째','세번째'] )\n",
    "s"
   ]
  },
  {
   "cell_type": "code",
   "execution_count": null,
   "id": "77720fcc",
   "metadata": {},
   "outputs": [],
   "source": [
    "s.index"
   ]
  },
  {
   "cell_type": "code",
   "execution_count": null,
   "id": "300a37b5",
   "metadata": {},
   "outputs": [],
   "source": [
    "s.values"
   ]
  },
  {
   "cell_type": "code",
   "execution_count": null,
   "id": "8b109327",
   "metadata": {},
   "outputs": [],
   "source": [
    "s.dtypes"
   ]
  },
  {
   "cell_type": "markdown",
   "id": "043a8f3d",
   "metadata": {},
   "source": [
    "### 데이터프레임 (DataFrame)"
   ]
  },
  {
   "cell_type": "code",
   "execution_count": null,
   "id": "b389700a",
   "metadata": {},
   "outputs": [],
   "source": [
    "df = pd.DataFrame( {'이름':['홍길동','성춘향','이몽룡'], \n",
    "                    '성별':['남','여','남'], \n",
    "                    '나이':[34,17,16]})\n",
    "df"
   ]
  },
  {
   "cell_type": "code",
   "execution_count": 25,
   "id": "921e6e40",
   "metadata": {},
   "outputs": [
    {
     "data": {
      "text/html": [
       "<div>\n",
       "<style scoped>\n",
       "    .dataframe tbody tr th:only-of-type {\n",
       "        vertical-align: middle;\n",
       "    }\n",
       "\n",
       "    .dataframe tbody tr th {\n",
       "        vertical-align: top;\n",
       "    }\n",
       "\n",
       "    .dataframe thead th {\n",
       "        text-align: right;\n",
       "    }\n",
       "</style>\n",
       "<table border=\"1\" class=\"dataframe\">\n",
       "  <thead>\n",
       "    <tr style=\"text-align: right;\">\n",
       "      <th></th>\n",
       "      <th>이름</th>\n",
       "      <th>성별</th>\n",
       "      <th>나이</th>\n",
       "    </tr>\n",
       "  </thead>\n",
       "  <tbody>\n",
       "    <tr>\n",
       "      <th>첫번째</th>\n",
       "      <td>홍길동</td>\n",
       "      <td>남</td>\n",
       "      <td>34</td>\n",
       "    </tr>\n",
       "    <tr>\n",
       "      <th>두번째</th>\n",
       "      <td>성춘향</td>\n",
       "      <td>여</td>\n",
       "      <td>17</td>\n",
       "    </tr>\n",
       "    <tr>\n",
       "      <th>세번째</th>\n",
       "      <td>이몽룡</td>\n",
       "      <td>남</td>\n",
       "      <td>16</td>\n",
       "    </tr>\n",
       "  </tbody>\n",
       "</table>\n",
       "</div>"
      ],
      "text/plain": [
       "      이름 성별  나이\n",
       "첫번째  홍길동  남  34\n",
       "두번째  성춘향  여  17\n",
       "세번째  이몽룡  남  16"
      ]
     },
     "execution_count": 25,
     "metadata": {},
     "output_type": "execute_result"
    }
   ],
   "source": [
    "df = pd.DataFrame([['홍길동','남',34],\n",
    "                   ['성춘향','여',17],\n",
    "                   ['이몽룡','남',16]], \n",
    "                  columns=['이름','성별','나이'], \n",
    "                  index=['첫번째','두번째','세번째'])\n",
    "df_chosun = df.copy()\n",
    "df_chosun"
   ]
  },
  {
   "cell_type": "code",
   "execution_count": null,
   "id": "d15a861f",
   "metadata": {},
   "outputs": [],
   "source": [
    "df.index"
   ]
  },
  {
   "cell_type": "code",
   "execution_count": null,
   "id": "fa1a70c1",
   "metadata": {},
   "outputs": [],
   "source": [
    "df.values"
   ]
  },
  {
   "cell_type": "code",
   "execution_count": null,
   "id": "1fd63d3f",
   "metadata": {},
   "outputs": [],
   "source": [
    "df.dtypes"
   ]
  },
  {
   "cell_type": "code",
   "execution_count": null,
   "id": "3802f39f",
   "metadata": {},
   "outputs": [],
   "source": [
    "df.columns"
   ]
  },
  {
   "cell_type": "code",
   "execution_count": null,
   "id": "cfaf918e",
   "metadata": {},
   "outputs": [],
   "source": [
    "df.info()"
   ]
  },
  {
   "cell_type": "code",
   "execution_count": null,
   "id": "c8664160",
   "metadata": {},
   "outputs": [],
   "source": [
    "df.describe()"
   ]
  },
  {
   "cell_type": "code",
   "execution_count": null,
   "id": "4050eb6d",
   "metadata": {},
   "outputs": [],
   "source": [
    "df.count()"
   ]
  },
  {
   "cell_type": "code",
   "execution_count": null,
   "id": "bd14a156",
   "metadata": {},
   "outputs": [],
   "source": [
    "df.head(2)"
   ]
  },
  {
   "cell_type": "code",
   "execution_count": null,
   "id": "10f16abf",
   "metadata": {},
   "outputs": [],
   "source": [
    "df.tail(3)"
   ]
  },
  {
   "cell_type": "markdown",
   "id": "9cf2c8e7",
   "metadata": {},
   "source": [
    "### 데이터프레임 인덱서(Indexer) loc[ ] 와 iloc[ ] 을 활용한 데이터 추출"
   ]
  },
  {
   "cell_type": "code",
   "execution_count": null,
   "id": "5c3e84c4",
   "metadata": {},
   "outputs": [],
   "source": [
    "df_titanic.head(15)"
   ]
  },
  {
   "cell_type": "code",
   "execution_count": null,
   "id": "cc23fccf",
   "metadata": {},
   "outputs": [],
   "source": [
    "df_titanic[0:10:2]"
   ]
  },
  {
   "cell_type": "code",
   "execution_count": null,
   "id": "77d21e2e",
   "metadata": {},
   "outputs": [],
   "source": [
    "df_titanic.loc[[0,2,4,6,8],]"
   ]
  },
  {
   "cell_type": "code",
   "execution_count": null,
   "id": "9199d730",
   "metadata": {},
   "outputs": [],
   "source": [
    "df_titanic_sub = df_titanic.loc[[0,2,4,6,8]]\n",
    "df_titanic_sub"
   ]
  },
  {
   "cell_type": "code",
   "execution_count": null,
   "id": "9142b8cc",
   "metadata": {},
   "outputs": [],
   "source": [
    "df_titanic.query('index in @df_titanic_sub.index').head(10)"
   ]
  },
  {
   "cell_type": "markdown",
   "id": "1380fd1c",
   "metadata": {},
   "source": [
    "### 데이터프레임 인덱서 loc[ ], iloc[ ] 를 활용한 행조건, 열조건 추출"
   ]
  },
  {
   "cell_type": "code",
   "execution_count": null,
   "id": "b2bc5a91",
   "metadata": {},
   "outputs": [],
   "source": [
    "df_titanic.loc[   [1,3,5,7,9]   ,   ['Name','Sex']   ]"
   ]
  },
  {
   "cell_type": "code",
   "execution_count": null,
   "id": "4ab0dd44",
   "metadata": {},
   "outputs": [],
   "source": [
    "df_titanic.loc[ :, ['Name','Sex']]"
   ]
  },
  {
   "cell_type": "code",
   "execution_count": null,
   "id": "acb5288c",
   "metadata": {},
   "outputs": [],
   "source": [
    "df_titanic.loc[0:10, ['Name','Sex']]"
   ]
  },
  {
   "cell_type": "code",
   "execution_count": null,
   "id": "984511f9",
   "metadata": {},
   "outputs": [],
   "source": [
    "df_titanic.iloc[0:5, [3,4]] # iloc 은 행,열 모두 인덱스로만 접근함"
   ]
  },
  {
   "cell_type": "code",
   "execution_count": null,
   "id": "4ff809f4",
   "metadata": {},
   "outputs": [],
   "source": [
    "df_titanic.iloc[0:5,3:5]"
   ]
  },
  {
   "cell_type": "code",
   "execution_count": null,
   "id": "b413638e",
   "metadata": {},
   "outputs": [],
   "source": [
    "df_titanic['Name']"
   ]
  },
  {
   "cell_type": "code",
   "execution_count": null,
   "id": "42b00c6f",
   "metadata": {},
   "outputs": [],
   "source": [
    "df_titanic['Name'].to_frame()"
   ]
  },
  {
   "cell_type": "code",
   "execution_count": null,
   "id": "b196d020",
   "metadata": {},
   "outputs": [],
   "source": [
    "df_titanic[['Name']]"
   ]
  },
  {
   "cell_type": "code",
   "execution_count": null,
   "id": "8a4c5000",
   "metadata": {},
   "outputs": [],
   "source": [
    "df_titanic[['Name','Sex']]"
   ]
  },
  {
   "cell_type": "markdown",
   "id": "443abc1b",
   "metadata": {},
   "source": [
    "### 인덱싱"
   ]
  },
  {
   "cell_type": "code",
   "execution_count": null,
   "id": "a9e06463",
   "metadata": {},
   "outputs": [],
   "source": [
    "df_chosun"
   ]
  },
  {
   "cell_type": "code",
   "execution_count": null,
   "id": "d43554fb",
   "metadata": {},
   "outputs": [],
   "source": [
    "df_chosun.set_index('이름')\n",
    "df_chosun"
   ]
  },
  {
   "cell_type": "code",
   "execution_count": null,
   "id": "72887fa8",
   "metadata": {},
   "outputs": [],
   "source": [
    "df_chosun.rename({'첫번째':'첫째', '세번째':'세째'})"
   ]
  },
  {
   "cell_type": "code",
   "execution_count": null,
   "id": "50cf4d10",
   "metadata": {},
   "outputs": [],
   "source": [
    "df_chosun"
   ]
  },
  {
   "cell_type": "code",
   "execution_count": null,
   "id": "42053cd1",
   "metadata": {},
   "outputs": [],
   "source": [
    "df_chosun.rename({'첫번째':'첫째', '두번째':'둘째', '세번째':'세째'}, inplace=True)\n",
    "df_chosun"
   ]
  },
  {
   "cell_type": "code",
   "execution_count": null,
   "id": "cde6a18e",
   "metadata": {},
   "outputs": [],
   "source": [
    "df_chosun.rename({'이름':'성명', '나이':'연령'}, axis=1, inplace=True)\n",
    "df_chosun"
   ]
  },
  {
   "cell_type": "code",
   "execution_count": null,
   "id": "842d0134",
   "metadata": {},
   "outputs": [],
   "source": [
    "df_chosun.loc['첫째']"
   ]
  },
  {
   "cell_type": "code",
   "execution_count": null,
   "id": "0c740e0a",
   "metadata": {},
   "outputs": [],
   "source": [
    "df_chosun"
   ]
  },
  {
   "cell_type": "code",
   "execution_count": null,
   "id": "47fdaddd",
   "metadata": {},
   "outputs": [],
   "source": [
    "df_chosun.reset_index()"
   ]
  },
  {
   "cell_type": "code",
   "execution_count": null,
   "id": "7e726af9",
   "metadata": {},
   "outputs": [],
   "source": [
    "df_chosun.reset_index(drop=True, inplace=True)\n",
    "df_chosun"
   ]
  },
  {
   "cell_type": "markdown",
   "id": "89a0ac80",
   "metadata": {},
   "source": [
    "### 결측치 확인 및 처리"
   ]
  },
  {
   "cell_type": "code",
   "execution_count": null,
   "id": "12875ae7",
   "metadata": {},
   "outputs": [],
   "source": [
    "df_titanic.isna().sum()"
   ]
  },
  {
   "cell_type": "code",
   "execution_count": null,
   "id": "d7797ac1",
   "metadata": {},
   "outputs": [],
   "source": [
    "df_titanic.iloc[0:5]['Cabin'].isna().sum()"
   ]
  },
  {
   "cell_type": "code",
   "execution_count": null,
   "id": "b18f8ad6",
   "metadata": {},
   "outputs": [],
   "source": [
    "df_titanic"
   ]
  },
  {
   "cell_type": "code",
   "execution_count": null,
   "id": "5b385741",
   "metadata": {},
   "outputs": [],
   "source": [
    "df_titanic.dropna()"
   ]
  },
  {
   "cell_type": "code",
   "execution_count": null,
   "id": "8329a8b8",
   "metadata": {},
   "outputs": [],
   "source": [
    "df_titanic['Age'].isna().sum()"
   ]
  },
  {
   "cell_type": "code",
   "execution_count": null,
   "id": "b5baa032",
   "metadata": {},
   "outputs": [],
   "source": [
    "df_titanic.dropna(how='all', axis=0, subset=['Age','Cabin'])"
   ]
  },
  {
   "cell_type": "code",
   "execution_count": null,
   "id": "6c618027",
   "metadata": {},
   "outputs": [],
   "source": [
    "df_titanic['Age'].replace('nan', np.nan, inplace=True)"
   ]
  },
  {
   "cell_type": "code",
   "execution_count": null,
   "id": "32f68c40",
   "metadata": {},
   "outputs": [],
   "source": [
    "df_titanic['Age'].isnull().sum()"
   ]
  },
  {
   "cell_type": "code",
   "execution_count": null,
   "id": "799bdeb8",
   "metadata": {},
   "outputs": [],
   "source": [
    "df_titanic['Age'].fillna(round(df_titanic['Age'].mean()))"
   ]
  },
  {
   "cell_type": "code",
   "execution_count": null,
   "id": "fb5c8fc4",
   "metadata": {},
   "outputs": [],
   "source": [
    "df_titanic['Cabin'].isnull().sum()"
   ]
  },
  {
   "cell_type": "code",
   "execution_count": null,
   "id": "923daa96",
   "metadata": {},
   "outputs": [],
   "source": [
    "df_titanic['Cabin']"
   ]
  },
  {
   "cell_type": "code",
   "execution_count": null,
   "id": "78c6ebf1",
   "metadata": {},
   "outputs": [],
   "source": [
    "df_titanic['Cabin'] = df_titanic['Cabin'].fillna(method='ffill')"
   ]
  },
  {
   "cell_type": "code",
   "execution_count": null,
   "id": "f6991847",
   "metadata": {},
   "outputs": [],
   "source": [
    "df_titanic['Cabin'].isnull().sum()"
   ]
  },
  {
   "cell_type": "code",
   "execution_count": null,
   "id": "0986386a",
   "metadata": {},
   "outputs": [],
   "source": [
    "df_titanic['Cabin'] = df_titanic['Cabin'].fillna(method='bfill')"
   ]
  },
  {
   "cell_type": "code",
   "execution_count": null,
   "id": "b42a18f9",
   "metadata": {},
   "outputs": [],
   "source": [
    "df_titanic['Cabin'].isnull().sum()"
   ]
  },
  {
   "cell_type": "markdown",
   "id": "8af76284",
   "metadata": {},
   "source": [
    "### 데이터 타입 변경"
   ]
  },
  {
   "cell_type": "code",
   "execution_count": null,
   "id": "34e4457d",
   "metadata": {},
   "outputs": [],
   "source": [
    "df_titanic['Age']"
   ]
  },
  {
   "cell_type": "code",
   "execution_count": null,
   "id": "63dd6d19",
   "metadata": {},
   "outputs": [],
   "source": [
    "df_titanic['Age'] = df_titanic['Age'].fillna(-1)"
   ]
  },
  {
   "cell_type": "code",
   "execution_count": null,
   "id": "7d255bfc",
   "metadata": {},
   "outputs": [],
   "source": [
    "df_titanic['Age'] = df_titanic['Age'].astype(int)"
   ]
  },
  {
   "cell_type": "code",
   "execution_count": null,
   "id": "ae20ab98",
   "metadata": {},
   "outputs": [],
   "source": [
    "df = pd.read_csv('temperature.csv', encoding='cp949')"
   ]
  },
  {
   "cell_type": "code",
   "execution_count": null,
   "id": "97b69076",
   "metadata": {},
   "outputs": [],
   "source": [
    "df"
   ]
  },
  {
   "cell_type": "code",
   "execution_count": null,
   "id": "8acd0ffa",
   "metadata": {},
   "outputs": [],
   "source": [
    "df.info()"
   ]
  },
  {
   "cell_type": "code",
   "execution_count": null,
   "id": "105f4a90",
   "metadata": {},
   "outputs": [],
   "source": [
    "df['일시'].head()"
   ]
  },
  {
   "cell_type": "code",
   "execution_count": null,
   "id": "ed5c9dd2",
   "metadata": {},
   "outputs": [],
   "source": [
    "# pd.to_datetime(df['일시'], format=\"%Y-%m-%d\")"
   ]
  },
  {
   "cell_type": "code",
   "execution_count": null,
   "id": "c3b6b1ca",
   "metadata": {},
   "outputs": [],
   "source": [
    "df['일시'] = pd.to_datetime(df['일시'], format=\"%Y-%m-%d\")\n",
    "df['일시'].head()"
   ]
  },
  {
   "cell_type": "code",
   "execution_count": null,
   "id": "e602d1d3",
   "metadata": {},
   "outputs": [],
   "source": [
    "df['일시'] = df['일시'].dt.strftime('%Y년 %m월 %d일')\n",
    "df['일시'].head()"
   ]
  },
  {
   "cell_type": "code",
   "execution_count": null,
   "id": "a8993cdf",
   "metadata": {},
   "outputs": [],
   "source": [
    "df['일시'] = pd.to_datetime(df['일시'], format=\"%Y년 %m월 %d일\")\n",
    "df['일시']"
   ]
  },
  {
   "cell_type": "markdown",
   "id": "f7cdffd8",
   "metadata": {},
   "source": [
    "### 날짜 핸들링"
   ]
  },
  {
   "cell_type": "code",
   "execution_count": null,
   "id": "ebc68cf5",
   "metadata": {},
   "outputs": [],
   "source": [
    "pd.Timestamp"
   ]
  },
  {
   "cell_type": "code",
   "execution_count": null,
   "id": "c6fee9f3",
   "metadata": {},
   "outputs": [],
   "source": [
    "pd.Timestamp.now()"
   ]
  },
  {
   "cell_type": "code",
   "execution_count": null,
   "id": "d34594af",
   "metadata": {},
   "outputs": [],
   "source": [
    "pd.Timestamp.now() + pd.Timedelta(days=365)"
   ]
  },
  {
   "cell_type": "code",
   "execution_count": null,
   "id": "1ed5d59e",
   "metadata": {},
   "outputs": [],
   "source": [
    "df['일시']"
   ]
  },
  {
   "cell_type": "code",
   "execution_count": null,
   "id": "9ec381c1",
   "metadata": {},
   "outputs": [],
   "source": [
    "df['일시'] + pd.Timedelta(days=3650*2)"
   ]
  },
  {
   "cell_type": "code",
   "execution_count": null,
   "id": "38357538",
   "metadata": {},
   "outputs": [],
   "source": [
    "from pandas.tseries.offsets import DateOffset"
   ]
  },
  {
   "cell_type": "code",
   "execution_count": null,
   "id": "a25a8146",
   "metadata": {},
   "outputs": [],
   "source": [
    "df['일시'] + DateOffset(years=2, months=5, days=30)"
   ]
  },
  {
   "cell_type": "code",
   "execution_count": null,
   "id": "9798a74c",
   "metadata": {},
   "outputs": [],
   "source": [
    "pd.DataFrame({'날짜':pd.date_range(start='2024-01-01', periods=100, freq='D')}) #M, MS, A, AS"
   ]
  },
  {
   "cell_type": "code",
   "execution_count": null,
   "id": "5b4224dd",
   "metadata": {},
   "outputs": [],
   "source": [
    "pd.DataFrame(pd.date_range(start='2024-01-01', periods=365, freq='D'), columns=['날짜']) #M, MS, A, AS"
   ]
  },
  {
   "cell_type": "code",
   "execution_count": null,
   "id": "1c5667e5",
   "metadata": {},
   "outputs": [],
   "source": [
    "pd.DataFrame(pd.date_range(start='2024-01-01', end='2024-12-31', freq='D'), columns=['날짜']) #M, MS, A, AS"
   ]
  },
  {
   "cell_type": "code",
   "execution_count": null,
   "id": "ecfe024c",
   "metadata": {},
   "outputs": [],
   "source": [
    "df.head(10)"
   ]
  },
  {
   "cell_type": "code",
   "execution_count": null,
   "id": "241962b8",
   "metadata": {},
   "outputs": [],
   "source": [
    "df['3일전'] = df['평균기온(℃)'].shift(3)\n",
    "df"
   ]
  },
  {
   "cell_type": "code",
   "execution_count": null,
   "id": "dfb4e321",
   "metadata": {},
   "outputs": [],
   "source": [
    "df['3일전'] - df['평균기온(℃)']"
   ]
  },
  {
   "cell_type": "code",
   "execution_count": null,
   "id": "0cf3ba46",
   "metadata": {},
   "outputs": [],
   "source": [
    "df['7일평균'] = df['평균기온(℃)'].rolling(7).mean()\n",
    "df.tail(10)"
   ]
  },
  {
   "cell_type": "code",
   "execution_count": null,
   "id": "8991fde6",
   "metadata": {},
   "outputs": [],
   "source": [
    "for i in range(1844,1848) :\n",
    "    print (df.iloc[i:i+7]['평균기온(℃)'].sum()/7)"
   ]
  },
  {
   "cell_type": "code",
   "execution_count": null,
   "id": "43d4a19c",
   "metadata": {},
   "outputs": [],
   "source": [
    "df['평균기온(℃)'] - df['7일평균']"
   ]
  },
  {
   "cell_type": "markdown",
   "id": "867746e8",
   "metadata": {},
   "source": [
    "### 정렬"
   ]
  },
  {
   "cell_type": "code",
   "execution_count": null,
   "id": "bfcd6730",
   "metadata": {},
   "outputs": [],
   "source": [
    "df_titanic.sort_values(['Age','Survived'], ascending=[False,True])"
   ]
  },
  {
   "cell_type": "code",
   "execution_count": null,
   "id": "7076fad7",
   "metadata": {},
   "outputs": [],
   "source": [
    "df_titanic.sort_values(['Survived','Pclass'], ascending=[True,False]).reset_index()"
   ]
  },
  {
   "cell_type": "markdown",
   "id": "d4f5f389",
   "metadata": {},
   "source": [
    "### 인덱서(Indexer) 추출 vs. 쿼리(Query) 추출"
   ]
  },
  {
   "cell_type": "code",
   "execution_count": null,
   "id": "613ae320",
   "metadata": {},
   "outputs": [],
   "source": [
    "df_titanic['Pclass']==1"
   ]
  },
  {
   "cell_type": "code",
   "execution_count": null,
   "id": "af1bbfdf",
   "metadata": {},
   "outputs": [],
   "source": [
    "df_titanic[df_titanic['Pclass']==1]"
   ]
  },
  {
   "cell_type": "code",
   "execution_count": null,
   "id": "07c3c349",
   "metadata": {},
   "outputs": [],
   "source": [
    "df_titanic.query('Pclass==1')"
   ]
  },
  {
   "cell_type": "code",
   "execution_count": null,
   "id": "990c8ef3",
   "metadata": {},
   "outputs": [],
   "source": [
    "df_titanic[(df_titanic['Pclass']==1) & (df_titanic['Survived']==1)]"
   ]
  },
  {
   "cell_type": "code",
   "execution_count": null,
   "id": "7748c905",
   "metadata": {},
   "outputs": [],
   "source": [
    "df_titanic.query('Pclass==1 and Survived==1')"
   ]
  },
  {
   "cell_type": "code",
   "execution_count": null,
   "id": "57b07d47",
   "metadata": {},
   "outputs": [],
   "source": [
    "df_titanic.query('PassengerId in [10,20,30]')"
   ]
  },
  {
   "cell_type": "code",
   "execution_count": null,
   "id": "dd22cf61",
   "metadata": {},
   "outputs": [],
   "source": [
    "df_titanic.query('PassengerId.isin([10,20,30])')"
   ]
  },
  {
   "cell_type": "code",
   "execution_count": null,
   "id": "61fe3191",
   "metadata": {},
   "outputs": [],
   "source": [
    "df_titanic[ (df_titanic['Age']>=20) \n",
    "           & (df_titanic['Age']<30) \n",
    "           & (df_titanic['Sex']=='female')]"
   ]
  },
  {
   "cell_type": "code",
   "execution_count": null,
   "id": "34c4a687",
   "metadata": {},
   "outputs": [],
   "source": [
    "df_titanic.query('Age >= 20 and Age < 30 and Sex==\"female\"')"
   ]
  },
  {
   "cell_type": "markdown",
   "id": "10113217",
   "metadata": {},
   "source": [
    "### 조건 함수 필터링 (Conditional Function Filtering)"
   ]
  },
  {
   "cell_type": "code",
   "execution_count": 14,
   "id": "5d408b93",
   "metadata": {},
   "outputs": [],
   "source": [
    "def chkAge(x):\n",
    "    if x < 20:\n",
    "        return True\n",
    "    else:\n",
    "        return False"
   ]
  },
  {
   "cell_type": "code",
   "execution_count": 15,
   "id": "311b5375",
   "metadata": {},
   "outputs": [
    {
     "data": {
      "text/html": [
       "<div>\n",
       "<style scoped>\n",
       "    .dataframe tbody tr th:only-of-type {\n",
       "        vertical-align: middle;\n",
       "    }\n",
       "\n",
       "    .dataframe tbody tr th {\n",
       "        vertical-align: top;\n",
       "    }\n",
       "\n",
       "    .dataframe thead th {\n",
       "        text-align: right;\n",
       "    }\n",
       "</style>\n",
       "<table border=\"1\" class=\"dataframe\">\n",
       "  <thead>\n",
       "    <tr style=\"text-align: right;\">\n",
       "      <th></th>\n",
       "      <th>PassengerId</th>\n",
       "      <th>Survived</th>\n",
       "      <th>Pclass</th>\n",
       "      <th>Name</th>\n",
       "      <th>Sex</th>\n",
       "      <th>Age</th>\n",
       "      <th>SibSp</th>\n",
       "      <th>Parch</th>\n",
       "      <th>Ticket</th>\n",
       "      <th>Fare</th>\n",
       "      <th>Cabin</th>\n",
       "      <th>Embarked</th>\n",
       "    </tr>\n",
       "  </thead>\n",
       "  <tbody>\n",
       "    <tr>\n",
       "      <th>9</th>\n",
       "      <td>10</td>\n",
       "      <td>1</td>\n",
       "      <td>2</td>\n",
       "      <td>Nasser, Mrs. Nicholas (Adele Achem)</td>\n",
       "      <td>female</td>\n",
       "      <td>14.0</td>\n",
       "      <td>1</td>\n",
       "      <td>0</td>\n",
       "      <td>237736</td>\n",
       "      <td>30.0708</td>\n",
       "      <td>NaN</td>\n",
       "      <td>C</td>\n",
       "    </tr>\n",
       "    <tr>\n",
       "      <th>10</th>\n",
       "      <td>11</td>\n",
       "      <td>1</td>\n",
       "      <td>3</td>\n",
       "      <td>Sandstrom, Miss. Marguerite Rut</td>\n",
       "      <td>female</td>\n",
       "      <td>4.0</td>\n",
       "      <td>1</td>\n",
       "      <td>1</td>\n",
       "      <td>PP 9549</td>\n",
       "      <td>16.7000</td>\n",
       "      <td>G6</td>\n",
       "      <td>S</td>\n",
       "    </tr>\n",
       "    <tr>\n",
       "      <th>14</th>\n",
       "      <td>15</td>\n",
       "      <td>0</td>\n",
       "      <td>3</td>\n",
       "      <td>Vestrom, Miss. Hulda Amanda Adolfina</td>\n",
       "      <td>female</td>\n",
       "      <td>14.0</td>\n",
       "      <td>0</td>\n",
       "      <td>0</td>\n",
       "      <td>350406</td>\n",
       "      <td>7.8542</td>\n",
       "      <td>NaN</td>\n",
       "      <td>S</td>\n",
       "    </tr>\n",
       "    <tr>\n",
       "      <th>22</th>\n",
       "      <td>23</td>\n",
       "      <td>1</td>\n",
       "      <td>3</td>\n",
       "      <td>McGowan, Miss. Anna \"Annie\"</td>\n",
       "      <td>female</td>\n",
       "      <td>15.0</td>\n",
       "      <td>0</td>\n",
       "      <td>0</td>\n",
       "      <td>330923</td>\n",
       "      <td>8.0292</td>\n",
       "      <td>NaN</td>\n",
       "      <td>Q</td>\n",
       "    </tr>\n",
       "    <tr>\n",
       "      <th>24</th>\n",
       "      <td>25</td>\n",
       "      <td>0</td>\n",
       "      <td>3</td>\n",
       "      <td>Palsson, Miss. Torborg Danira</td>\n",
       "      <td>female</td>\n",
       "      <td>8.0</td>\n",
       "      <td>3</td>\n",
       "      <td>1</td>\n",
       "      <td>349909</td>\n",
       "      <td>21.0750</td>\n",
       "      <td>NaN</td>\n",
       "      <td>S</td>\n",
       "    </tr>\n",
       "    <tr>\n",
       "      <th>...</th>\n",
       "      <td>...</td>\n",
       "      <td>...</td>\n",
       "      <td>...</td>\n",
       "      <td>...</td>\n",
       "      <td>...</td>\n",
       "      <td>...</td>\n",
       "      <td>...</td>\n",
       "      <td>...</td>\n",
       "      <td>...</td>\n",
       "      <td>...</td>\n",
       "      <td>...</td>\n",
       "      <td>...</td>\n",
       "    </tr>\n",
       "    <tr>\n",
       "      <th>852</th>\n",
       "      <td>853</td>\n",
       "      <td>0</td>\n",
       "      <td>3</td>\n",
       "      <td>Boulos, Miss. Nourelain</td>\n",
       "      <td>female</td>\n",
       "      <td>9.0</td>\n",
       "      <td>1</td>\n",
       "      <td>1</td>\n",
       "      <td>2678</td>\n",
       "      <td>15.2458</td>\n",
       "      <td>NaN</td>\n",
       "      <td>C</td>\n",
       "    </tr>\n",
       "    <tr>\n",
       "      <th>853</th>\n",
       "      <td>854</td>\n",
       "      <td>1</td>\n",
       "      <td>1</td>\n",
       "      <td>Lines, Miss. Mary Conover</td>\n",
       "      <td>female</td>\n",
       "      <td>16.0</td>\n",
       "      <td>0</td>\n",
       "      <td>1</td>\n",
       "      <td>PC 17592</td>\n",
       "      <td>39.4000</td>\n",
       "      <td>D28</td>\n",
       "      <td>S</td>\n",
       "    </tr>\n",
       "    <tr>\n",
       "      <th>855</th>\n",
       "      <td>856</td>\n",
       "      <td>1</td>\n",
       "      <td>3</td>\n",
       "      <td>Aks, Mrs. Sam (Leah Rosen)</td>\n",
       "      <td>female</td>\n",
       "      <td>18.0</td>\n",
       "      <td>0</td>\n",
       "      <td>1</td>\n",
       "      <td>392091</td>\n",
       "      <td>9.3500</td>\n",
       "      <td>NaN</td>\n",
       "      <td>S</td>\n",
       "    </tr>\n",
       "    <tr>\n",
       "      <th>875</th>\n",
       "      <td>876</td>\n",
       "      <td>1</td>\n",
       "      <td>3</td>\n",
       "      <td>Najib, Miss. Adele Kiamie \"Jane\"</td>\n",
       "      <td>female</td>\n",
       "      <td>15.0</td>\n",
       "      <td>0</td>\n",
       "      <td>0</td>\n",
       "      <td>2667</td>\n",
       "      <td>7.2250</td>\n",
       "      <td>NaN</td>\n",
       "      <td>C</td>\n",
       "    </tr>\n",
       "    <tr>\n",
       "      <th>887</th>\n",
       "      <td>888</td>\n",
       "      <td>1</td>\n",
       "      <td>1</td>\n",
       "      <td>Graham, Miss. Margaret Edith</td>\n",
       "      <td>female</td>\n",
       "      <td>19.0</td>\n",
       "      <td>0</td>\n",
       "      <td>0</td>\n",
       "      <td>112053</td>\n",
       "      <td>30.0000</td>\n",
       "      <td>B42</td>\n",
       "      <td>S</td>\n",
       "    </tr>\n",
       "  </tbody>\n",
       "</table>\n",
       "<p>75 rows × 12 columns</p>\n",
       "</div>"
      ],
      "text/plain": [
       "     PassengerId  Survived  Pclass                                  Name  \\\n",
       "9             10         1       2   Nasser, Mrs. Nicholas (Adele Achem)   \n",
       "10            11         1       3       Sandstrom, Miss. Marguerite Rut   \n",
       "14            15         0       3  Vestrom, Miss. Hulda Amanda Adolfina   \n",
       "22            23         1       3           McGowan, Miss. Anna \"Annie\"   \n",
       "24            25         0       3         Palsson, Miss. Torborg Danira   \n",
       "..           ...       ...     ...                                   ...   \n",
       "852          853         0       3               Boulos, Miss. Nourelain   \n",
       "853          854         1       1             Lines, Miss. Mary Conover   \n",
       "855          856         1       3            Aks, Mrs. Sam (Leah Rosen)   \n",
       "875          876         1       3      Najib, Miss. Adele Kiamie \"Jane\"   \n",
       "887          888         1       1          Graham, Miss. Margaret Edith   \n",
       "\n",
       "        Sex   Age  SibSp  Parch    Ticket     Fare Cabin Embarked  \n",
       "9    female  14.0      1      0    237736  30.0708   NaN        C  \n",
       "10   female   4.0      1      1   PP 9549  16.7000    G6        S  \n",
       "14   female  14.0      0      0    350406   7.8542   NaN        S  \n",
       "22   female  15.0      0      0    330923   8.0292   NaN        Q  \n",
       "24   female   8.0      3      1    349909  21.0750   NaN        S  \n",
       "..      ...   ...    ...    ...       ...      ...   ...      ...  \n",
       "852  female   9.0      1      1      2678  15.2458   NaN        C  \n",
       "853  female  16.0      0      1  PC 17592  39.4000   D28        S  \n",
       "855  female  18.0      0      1    392091   9.3500   NaN        S  \n",
       "875  female  15.0      0      0      2667   7.2250   NaN        C  \n",
       "887  female  19.0      0      0    112053  30.0000   B42        S  \n",
       "\n",
       "[75 rows x 12 columns]"
      ]
     },
     "execution_count": 15,
     "metadata": {},
     "output_type": "execute_result"
    }
   ],
   "source": [
    "df_titanic[df_titanic['Age'].apply(chkAge) & \n",
    "           df_titanic['Sex'].apply(lambda x : True if x == 'female' else False)]"
   ]
  },
  {
   "cell_type": "code",
   "execution_count": 16,
   "id": "c2304680",
   "metadata": {},
   "outputs": [],
   "source": [
    "def grade(x):\n",
    "    if x['Pclass'] == 1 and x['SibSp'] == 1:\n",
    "        return 1\n",
    "    else:\n",
    "        return 0"
   ]
  },
  {
   "cell_type": "code",
   "execution_count": 17,
   "id": "f7f3adeb",
   "metadata": {},
   "outputs": [
    {
     "data": {
      "text/html": [
       "<div>\n",
       "<style scoped>\n",
       "    .dataframe tbody tr th:only-of-type {\n",
       "        vertical-align: middle;\n",
       "    }\n",
       "\n",
       "    .dataframe tbody tr th {\n",
       "        vertical-align: top;\n",
       "    }\n",
       "\n",
       "    .dataframe thead th {\n",
       "        text-align: right;\n",
       "    }\n",
       "</style>\n",
       "<table border=\"1\" class=\"dataframe\">\n",
       "  <thead>\n",
       "    <tr style=\"text-align: right;\">\n",
       "      <th></th>\n",
       "      <th>PassengerId</th>\n",
       "      <th>Survived</th>\n",
       "      <th>Pclass</th>\n",
       "      <th>Name</th>\n",
       "      <th>Sex</th>\n",
       "      <th>Age</th>\n",
       "      <th>SibSp</th>\n",
       "      <th>Parch</th>\n",
       "      <th>Ticket</th>\n",
       "      <th>Fare</th>\n",
       "      <th>Cabin</th>\n",
       "      <th>Embarked</th>\n",
       "      <th>SocialLevel</th>\n",
       "    </tr>\n",
       "  </thead>\n",
       "  <tbody>\n",
       "    <tr>\n",
       "      <th>0</th>\n",
       "      <td>1</td>\n",
       "      <td>0</td>\n",
       "      <td>3</td>\n",
       "      <td>Braund, Mr. Owen Harris</td>\n",
       "      <td>male</td>\n",
       "      <td>22.0</td>\n",
       "      <td>1</td>\n",
       "      <td>0</td>\n",
       "      <td>A/5 21171</td>\n",
       "      <td>7.2500</td>\n",
       "      <td>NaN</td>\n",
       "      <td>S</td>\n",
       "      <td>0</td>\n",
       "    </tr>\n",
       "    <tr>\n",
       "      <th>1</th>\n",
       "      <td>2</td>\n",
       "      <td>1</td>\n",
       "      <td>1</td>\n",
       "      <td>Cumings, Mrs. John Bradley (Florence Briggs Th...</td>\n",
       "      <td>female</td>\n",
       "      <td>38.0</td>\n",
       "      <td>1</td>\n",
       "      <td>0</td>\n",
       "      <td>PC 17599</td>\n",
       "      <td>71.2833</td>\n",
       "      <td>C85</td>\n",
       "      <td>C</td>\n",
       "      <td>1</td>\n",
       "    </tr>\n",
       "    <tr>\n",
       "      <th>2</th>\n",
       "      <td>3</td>\n",
       "      <td>1</td>\n",
       "      <td>3</td>\n",
       "      <td>Heikkinen, Miss. Laina</td>\n",
       "      <td>female</td>\n",
       "      <td>26.0</td>\n",
       "      <td>0</td>\n",
       "      <td>0</td>\n",
       "      <td>STON/O2. 3101282</td>\n",
       "      <td>7.9250</td>\n",
       "      <td>NaN</td>\n",
       "      <td>S</td>\n",
       "      <td>0</td>\n",
       "    </tr>\n",
       "  </tbody>\n",
       "</table>\n",
       "</div>"
      ],
      "text/plain": [
       "   PassengerId  Survived  Pclass  \\\n",
       "0            1         0       3   \n",
       "1            2         1       1   \n",
       "2            3         1       3   \n",
       "\n",
       "                                                Name     Sex   Age  SibSp  \\\n",
       "0                            Braund, Mr. Owen Harris    male  22.0      1   \n",
       "1  Cumings, Mrs. John Bradley (Florence Briggs Th...  female  38.0      1   \n",
       "2                             Heikkinen, Miss. Laina  female  26.0      0   \n",
       "\n",
       "   Parch            Ticket     Fare Cabin Embarked  SocialLevel  \n",
       "0      0         A/5 21171   7.2500   NaN        S            0  \n",
       "1      0          PC 17599  71.2833   C85        C            1  \n",
       "2      0  STON/O2. 3101282   7.9250   NaN        S            0  "
      ]
     },
     "execution_count": 17,
     "metadata": {},
     "output_type": "execute_result"
    }
   ],
   "source": [
    "df_titanic['SocialLevel'] = df_titanic.apply(grade, axis=1)\n",
    "df_titanic.head(3)"
   ]
  },
  {
   "cell_type": "code",
   "execution_count": 18,
   "id": "b83245e5",
   "metadata": {},
   "outputs": [
    {
     "data": {
      "text/html": [
       "<div>\n",
       "<style scoped>\n",
       "    .dataframe tbody tr th:only-of-type {\n",
       "        vertical-align: middle;\n",
       "    }\n",
       "\n",
       "    .dataframe tbody tr th {\n",
       "        vertical-align: top;\n",
       "    }\n",
       "\n",
       "    .dataframe thead th {\n",
       "        text-align: right;\n",
       "    }\n",
       "</style>\n",
       "<table border=\"1\" class=\"dataframe\">\n",
       "  <thead>\n",
       "    <tr style=\"text-align: right;\">\n",
       "      <th></th>\n",
       "      <th>PassengerId</th>\n",
       "      <th>Survived</th>\n",
       "      <th>Pclass</th>\n",
       "      <th>Name</th>\n",
       "      <th>Sex</th>\n",
       "      <th>Age</th>\n",
       "      <th>SibSp</th>\n",
       "      <th>Parch</th>\n",
       "      <th>Ticket</th>\n",
       "      <th>Fare</th>\n",
       "      <th>Cabin</th>\n",
       "      <th>Embarked</th>\n",
       "      <th>SocialLevel</th>\n",
       "    </tr>\n",
       "  </thead>\n",
       "  <tbody>\n",
       "    <tr>\n",
       "      <th>0</th>\n",
       "      <td>1</td>\n",
       "      <td>0</td>\n",
       "      <td>3</td>\n",
       "      <td>Braund, Mr. Owen Harris</td>\n",
       "      <td>male</td>\n",
       "      <td>22.0</td>\n",
       "      <td>1</td>\n",
       "      <td>0</td>\n",
       "      <td>A/5 21171</td>\n",
       "      <td>7.2500</td>\n",
       "      <td>NaN</td>\n",
       "      <td>S</td>\n",
       "      <td>0</td>\n",
       "    </tr>\n",
       "    <tr>\n",
       "      <th>1</th>\n",
       "      <td>2</td>\n",
       "      <td>1</td>\n",
       "      <td>1</td>\n",
       "      <td>Cumings, Mrs. John Bradley (Florence Briggs Th...</td>\n",
       "      <td>female</td>\n",
       "      <td>38.0</td>\n",
       "      <td>1</td>\n",
       "      <td>0</td>\n",
       "      <td>PC 17599</td>\n",
       "      <td>71.2833</td>\n",
       "      <td>C85</td>\n",
       "      <td>C</td>\n",
       "      <td>1</td>\n",
       "    </tr>\n",
       "    <tr>\n",
       "      <th>2</th>\n",
       "      <td>3</td>\n",
       "      <td>1</td>\n",
       "      <td>3</td>\n",
       "      <td>Heikkinen, Miss. Laina</td>\n",
       "      <td>female</td>\n",
       "      <td>26.0</td>\n",
       "      <td>0</td>\n",
       "      <td>0</td>\n",
       "      <td>STON/O2. 3101282</td>\n",
       "      <td>7.9250</td>\n",
       "      <td>NaN</td>\n",
       "      <td>S</td>\n",
       "      <td>0</td>\n",
       "    </tr>\n",
       "  </tbody>\n",
       "</table>\n",
       "</div>"
      ],
      "text/plain": [
       "   PassengerId  Survived  Pclass  \\\n",
       "0            1         0       3   \n",
       "1            2         1       1   \n",
       "2            3         1       3   \n",
       "\n",
       "                                                Name     Sex   Age  SibSp  \\\n",
       "0                            Braund, Mr. Owen Harris    male  22.0      1   \n",
       "1  Cumings, Mrs. John Bradley (Florence Briggs Th...  female  38.0      1   \n",
       "2                             Heikkinen, Miss. Laina  female  26.0      0   \n",
       "\n",
       "   Parch            Ticket     Fare Cabin Embarked  SocialLevel  \n",
       "0      0         A/5 21171   7.2500   NaN        S            0  \n",
       "1      0          PC 17599  71.2833   C85        C            1  \n",
       "2      0  STON/O2. 3101282   7.9250   NaN        S            0  "
      ]
     },
     "execution_count": 18,
     "metadata": {},
     "output_type": "execute_result"
    }
   ],
   "source": [
    "df_titanic['SocialLevel'] = df_titanic.apply(lambda x : 1 if x['Pclass'] == 1 and \n",
    "                                                              x['SibSp']  == 1 else 0, axis=1)\n",
    "df_titanic.head(3)"
   ]
  },
  {
   "cell_type": "markdown",
   "id": "9f4a74d8",
   "metadata": {},
   "source": [
    "### 문자열 조작"
   ]
  },
  {
   "cell_type": "code",
   "execution_count": 19,
   "id": "1f02cc68",
   "metadata": {},
   "outputs": [
    {
     "data": {
      "text/plain": [
       "0      남\n",
       "1      여\n",
       "2      여\n",
       "3      여\n",
       "4      남\n",
       "      ..\n",
       "886    남\n",
       "887    여\n",
       "888    여\n",
       "889    남\n",
       "890    남\n",
       "Name: Sex, Length: 891, dtype: object"
      ]
     },
     "execution_count": 19,
     "metadata": {},
     "output_type": "execute_result"
    }
   ],
   "source": [
    "df_titanic['Sex'].map({'male':'남', 'female':'여'})"
   ]
  },
  {
   "cell_type": "code",
   "execution_count": 20,
   "id": "f77e3890",
   "metadata": {},
   "outputs": [
    {
     "data": {
      "text/html": [
       "<div>\n",
       "<style scoped>\n",
       "    .dataframe tbody tr th:only-of-type {\n",
       "        vertical-align: middle;\n",
       "    }\n",
       "\n",
       "    .dataframe tbody tr th {\n",
       "        vertical-align: top;\n",
       "    }\n",
       "\n",
       "    .dataframe thead th {\n",
       "        text-align: right;\n",
       "    }\n",
       "</style>\n",
       "<table border=\"1\" class=\"dataframe\">\n",
       "  <thead>\n",
       "    <tr style=\"text-align: right;\">\n",
       "      <th></th>\n",
       "      <th>Name</th>\n",
       "    </tr>\n",
       "  </thead>\n",
       "  <tbody>\n",
       "    <tr>\n",
       "      <th>0</th>\n",
       "      <td>Braund, Mr. Owen Harris</td>\n",
       "    </tr>\n",
       "    <tr>\n",
       "      <th>1</th>\n",
       "      <td>Cumings, Mrs. John Bradley (Florence Briggs Th...</td>\n",
       "    </tr>\n",
       "    <tr>\n",
       "      <th>2</th>\n",
       "      <td>Heikkinen, Miss. Laina</td>\n",
       "    </tr>\n",
       "    <tr>\n",
       "      <th>3</th>\n",
       "      <td>Futrelle, Mrs. Jacques Heath (Lily May Peel)</td>\n",
       "    </tr>\n",
       "    <tr>\n",
       "      <th>4</th>\n",
       "      <td>Allen, Mr. William Henry</td>\n",
       "    </tr>\n",
       "    <tr>\n",
       "      <th>...</th>\n",
       "      <td>...</td>\n",
       "    </tr>\n",
       "    <tr>\n",
       "      <th>886</th>\n",
       "      <td>Montvila, Rev. Juozas</td>\n",
       "    </tr>\n",
       "    <tr>\n",
       "      <th>887</th>\n",
       "      <td>Graham, Miss. Margaret Edith</td>\n",
       "    </tr>\n",
       "    <tr>\n",
       "      <th>888</th>\n",
       "      <td>Johnston, Miss. Catherine Helen \"Carrie\"</td>\n",
       "    </tr>\n",
       "    <tr>\n",
       "      <th>889</th>\n",
       "      <td>Behr, Mr. Karl Howell</td>\n",
       "    </tr>\n",
       "    <tr>\n",
       "      <th>890</th>\n",
       "      <td>Dooley, Mr. Patrick</td>\n",
       "    </tr>\n",
       "  </tbody>\n",
       "</table>\n",
       "<p>891 rows × 1 columns</p>\n",
       "</div>"
      ],
      "text/plain": [
       "                                                  Name\n",
       "0                              Braund, Mr. Owen Harris\n",
       "1    Cumings, Mrs. John Bradley (Florence Briggs Th...\n",
       "2                               Heikkinen, Miss. Laina\n",
       "3         Futrelle, Mrs. Jacques Heath (Lily May Peel)\n",
       "4                             Allen, Mr. William Henry\n",
       "..                                                 ...\n",
       "886                              Montvila, Rev. Juozas\n",
       "887                       Graham, Miss. Margaret Edith\n",
       "888           Johnston, Miss. Catherine Helen \"Carrie\"\n",
       "889                              Behr, Mr. Karl Howell\n",
       "890                                Dooley, Mr. Patrick\n",
       "\n",
       "[891 rows x 1 columns]"
      ]
     },
     "execution_count": 20,
     "metadata": {},
     "output_type": "execute_result"
    }
   ],
   "source": [
    "df_titanic['Name'].to_frame()"
   ]
  },
  {
   "cell_type": "code",
   "execution_count": 22,
   "id": "837888dd",
   "metadata": {},
   "outputs": [
    {
     "data": {
      "text/html": [
       "<div>\n",
       "<style scoped>\n",
       "    .dataframe tbody tr th:only-of-type {\n",
       "        vertical-align: middle;\n",
       "    }\n",
       "\n",
       "    .dataframe tbody tr th {\n",
       "        vertical-align: top;\n",
       "    }\n",
       "\n",
       "    .dataframe thead th {\n",
       "        text-align: right;\n",
       "    }\n",
       "</style>\n",
       "<table border=\"1\" class=\"dataframe\">\n",
       "  <thead>\n",
       "    <tr style=\"text-align: right;\">\n",
       "      <th></th>\n",
       "      <th>0</th>\n",
       "      <th>1</th>\n",
       "      <th>2</th>\n",
       "      <th>3</th>\n",
       "      <th>4</th>\n",
       "    </tr>\n",
       "  </thead>\n",
       "  <tbody>\n",
       "    <tr>\n",
       "      <th>0</th>\n",
       "      <td>Braund,</td>\n",
       "      <td>Mr.</td>\n",
       "      <td>Owen</td>\n",
       "      <td>Harris</td>\n",
       "      <td>None</td>\n",
       "    </tr>\n",
       "    <tr>\n",
       "      <th>1</th>\n",
       "      <td>Cumings,</td>\n",
       "      <td>Mrs.</td>\n",
       "      <td>John</td>\n",
       "      <td>Bradley</td>\n",
       "      <td>(Florence Briggs Thayer)</td>\n",
       "    </tr>\n",
       "    <tr>\n",
       "      <th>2</th>\n",
       "      <td>Heikkinen,</td>\n",
       "      <td>Miss.</td>\n",
       "      <td>Laina</td>\n",
       "      <td>None</td>\n",
       "      <td>None</td>\n",
       "    </tr>\n",
       "    <tr>\n",
       "      <th>3</th>\n",
       "      <td>Futrelle,</td>\n",
       "      <td>Mrs.</td>\n",
       "      <td>Jacques</td>\n",
       "      <td>Heath</td>\n",
       "      <td>(Lily May Peel)</td>\n",
       "    </tr>\n",
       "    <tr>\n",
       "      <th>4</th>\n",
       "      <td>Allen,</td>\n",
       "      <td>Mr.</td>\n",
       "      <td>William</td>\n",
       "      <td>Henry</td>\n",
       "      <td>None</td>\n",
       "    </tr>\n",
       "    <tr>\n",
       "      <th>...</th>\n",
       "      <td>...</td>\n",
       "      <td>...</td>\n",
       "      <td>...</td>\n",
       "      <td>...</td>\n",
       "      <td>...</td>\n",
       "    </tr>\n",
       "    <tr>\n",
       "      <th>886</th>\n",
       "      <td>Montvila,</td>\n",
       "      <td>Rev.</td>\n",
       "      <td>Juozas</td>\n",
       "      <td>None</td>\n",
       "      <td>None</td>\n",
       "    </tr>\n",
       "    <tr>\n",
       "      <th>887</th>\n",
       "      <td>Graham,</td>\n",
       "      <td>Miss.</td>\n",
       "      <td>Margaret</td>\n",
       "      <td>Edith</td>\n",
       "      <td>None</td>\n",
       "    </tr>\n",
       "    <tr>\n",
       "      <th>888</th>\n",
       "      <td>Johnston,</td>\n",
       "      <td>Miss.</td>\n",
       "      <td>Catherine</td>\n",
       "      <td>Helen</td>\n",
       "      <td>\"Carrie\"</td>\n",
       "    </tr>\n",
       "    <tr>\n",
       "      <th>889</th>\n",
       "      <td>Behr,</td>\n",
       "      <td>Mr.</td>\n",
       "      <td>Karl</td>\n",
       "      <td>Howell</td>\n",
       "      <td>None</td>\n",
       "    </tr>\n",
       "    <tr>\n",
       "      <th>890</th>\n",
       "      <td>Dooley,</td>\n",
       "      <td>Mr.</td>\n",
       "      <td>Patrick</td>\n",
       "      <td>None</td>\n",
       "      <td>None</td>\n",
       "    </tr>\n",
       "  </tbody>\n",
       "</table>\n",
       "<p>891 rows × 5 columns</p>\n",
       "</div>"
      ],
      "text/plain": [
       "              0      1          2        3                         4\n",
       "0       Braund,    Mr.       Owen   Harris                      None\n",
       "1      Cumings,   Mrs.       John  Bradley  (Florence Briggs Thayer)\n",
       "2    Heikkinen,  Miss.      Laina     None                      None\n",
       "3     Futrelle,   Mrs.    Jacques    Heath           (Lily May Peel)\n",
       "4        Allen,    Mr.    William    Henry                      None\n",
       "..          ...    ...        ...      ...                       ...\n",
       "886   Montvila,   Rev.     Juozas     None                      None\n",
       "887     Graham,  Miss.   Margaret    Edith                      None\n",
       "888   Johnston,  Miss.  Catherine    Helen                  \"Carrie\"\n",
       "889       Behr,    Mr.       Karl   Howell                      None\n",
       "890     Dooley,    Mr.    Patrick     None                      None\n",
       "\n",
       "[891 rows x 5 columns]"
      ]
     },
     "execution_count": 22,
     "metadata": {},
     "output_type": "execute_result"
    }
   ],
   "source": [
    "pd.DataFrame(df_titanic['Name'].str.split(expand=True, n=4))"
   ]
  },
  {
   "cell_type": "code",
   "execution_count": 23,
   "id": "033afb81",
   "metadata": {},
   "outputs": [
    {
     "data": {
      "text/html": [
       "<div>\n",
       "<style scoped>\n",
       "    .dataframe tbody tr th:only-of-type {\n",
       "        vertical-align: middle;\n",
       "    }\n",
       "\n",
       "    .dataframe tbody tr th {\n",
       "        vertical-align: top;\n",
       "    }\n",
       "\n",
       "    .dataframe thead th {\n",
       "        text-align: right;\n",
       "    }\n",
       "</style>\n",
       "<table border=\"1\" class=\"dataframe\">\n",
       "  <thead>\n",
       "    <tr style=\"text-align: right;\">\n",
       "      <th></th>\n",
       "      <th>Name</th>\n",
       "    </tr>\n",
       "  </thead>\n",
       "  <tbody>\n",
       "    <tr>\n",
       "      <th>0</th>\n",
       "      <td>BRAUND, MR. OWEN HARRIS</td>\n",
       "    </tr>\n",
       "    <tr>\n",
       "      <th>1</th>\n",
       "      <td>CUMINGS, MRS. JOHN BRADLEY (FLORENCE BRIGGS TH...</td>\n",
       "    </tr>\n",
       "    <tr>\n",
       "      <th>2</th>\n",
       "      <td>HEIKKINEN, MISS. LAINA</td>\n",
       "    </tr>\n",
       "    <tr>\n",
       "      <th>3</th>\n",
       "      <td>FUTRELLE, MRS. JACQUES HEATH (LILY MAY PEEL)</td>\n",
       "    </tr>\n",
       "    <tr>\n",
       "      <th>4</th>\n",
       "      <td>ALLEN, MR. WILLIAM HENRY</td>\n",
       "    </tr>\n",
       "    <tr>\n",
       "      <th>...</th>\n",
       "      <td>...</td>\n",
       "    </tr>\n",
       "    <tr>\n",
       "      <th>886</th>\n",
       "      <td>MONTVILA, REV. JUOZAS</td>\n",
       "    </tr>\n",
       "    <tr>\n",
       "      <th>887</th>\n",
       "      <td>GRAHAM, MISS. MARGARET EDITH</td>\n",
       "    </tr>\n",
       "    <tr>\n",
       "      <th>888</th>\n",
       "      <td>JOHNSTON, MISS. CATHERINE HELEN \"CARRIE\"</td>\n",
       "    </tr>\n",
       "    <tr>\n",
       "      <th>889</th>\n",
       "      <td>BEHR, MR. KARL HOWELL</td>\n",
       "    </tr>\n",
       "    <tr>\n",
       "      <th>890</th>\n",
       "      <td>DOOLEY, MR. PATRICK</td>\n",
       "    </tr>\n",
       "  </tbody>\n",
       "</table>\n",
       "<p>891 rows × 1 columns</p>\n",
       "</div>"
      ],
      "text/plain": [
       "                                                  Name\n",
       "0                              BRAUND, MR. OWEN HARRIS\n",
       "1    CUMINGS, MRS. JOHN BRADLEY (FLORENCE BRIGGS TH...\n",
       "2                               HEIKKINEN, MISS. LAINA\n",
       "3         FUTRELLE, MRS. JACQUES HEATH (LILY MAY PEEL)\n",
       "4                             ALLEN, MR. WILLIAM HENRY\n",
       "..                                                 ...\n",
       "886                              MONTVILA, REV. JUOZAS\n",
       "887                       GRAHAM, MISS. MARGARET EDITH\n",
       "888           JOHNSTON, MISS. CATHERINE HELEN \"CARRIE\"\n",
       "889                              BEHR, MR. KARL HOWELL\n",
       "890                                DOOLEY, MR. PATRICK\n",
       "\n",
       "[891 rows x 1 columns]"
      ]
     },
     "execution_count": 23,
     "metadata": {},
     "output_type": "execute_result"
    }
   ],
   "source": [
    "pd.DataFrame(df_titanic['Name'].str.upper())"
   ]
  },
  {
   "cell_type": "code",
   "execution_count": 24,
   "id": "04b2cd33",
   "metadata": {},
   "outputs": [
    {
     "data": {
      "text/html": [
       "<div>\n",
       "<style scoped>\n",
       "    .dataframe tbody tr th:only-of-type {\n",
       "        vertical-align: middle;\n",
       "    }\n",
       "\n",
       "    .dataframe tbody tr th {\n",
       "        vertical-align: top;\n",
       "    }\n",
       "\n",
       "    .dataframe thead th {\n",
       "        text-align: right;\n",
       "    }\n",
       "</style>\n",
       "<table border=\"1\" class=\"dataframe\">\n",
       "  <thead>\n",
       "    <tr style=\"text-align: right;\">\n",
       "      <th></th>\n",
       "      <th>Name</th>\n",
       "    </tr>\n",
       "  </thead>\n",
       "  <tbody>\n",
       "    <tr>\n",
       "      <th>0</th>\n",
       "      <td>braund, mr. owen harris</td>\n",
       "    </tr>\n",
       "    <tr>\n",
       "      <th>1</th>\n",
       "      <td>cumings, mrs. john bradley (florence briggs th...</td>\n",
       "    </tr>\n",
       "    <tr>\n",
       "      <th>2</th>\n",
       "      <td>heikkinen, miss. laina</td>\n",
       "    </tr>\n",
       "    <tr>\n",
       "      <th>3</th>\n",
       "      <td>futrelle, mrs. jacques heath (lily may peel)</td>\n",
       "    </tr>\n",
       "    <tr>\n",
       "      <th>4</th>\n",
       "      <td>allen, mr. william henry</td>\n",
       "    </tr>\n",
       "    <tr>\n",
       "      <th>...</th>\n",
       "      <td>...</td>\n",
       "    </tr>\n",
       "    <tr>\n",
       "      <th>886</th>\n",
       "      <td>montvila, rev. juozas</td>\n",
       "    </tr>\n",
       "    <tr>\n",
       "      <th>887</th>\n",
       "      <td>graham, miss. margaret edith</td>\n",
       "    </tr>\n",
       "    <tr>\n",
       "      <th>888</th>\n",
       "      <td>johnston, miss. catherine helen \"carrie\"</td>\n",
       "    </tr>\n",
       "    <tr>\n",
       "      <th>889</th>\n",
       "      <td>behr, mr. karl howell</td>\n",
       "    </tr>\n",
       "    <tr>\n",
       "      <th>890</th>\n",
       "      <td>dooley, mr. patrick</td>\n",
       "    </tr>\n",
       "  </tbody>\n",
       "</table>\n",
       "<p>891 rows × 1 columns</p>\n",
       "</div>"
      ],
      "text/plain": [
       "                                                  Name\n",
       "0                              braund, mr. owen harris\n",
       "1    cumings, mrs. john bradley (florence briggs th...\n",
       "2                               heikkinen, miss. laina\n",
       "3         futrelle, mrs. jacques heath (lily may peel)\n",
       "4                             allen, mr. william henry\n",
       "..                                                 ...\n",
       "886                              montvila, rev. juozas\n",
       "887                       graham, miss. margaret edith\n",
       "888           johnston, miss. catherine helen \"carrie\"\n",
       "889                              behr, mr. karl howell\n",
       "890                                dooley, mr. patrick\n",
       "\n",
       "[891 rows x 1 columns]"
      ]
     },
     "execution_count": 24,
     "metadata": {},
     "output_type": "execute_result"
    }
   ],
   "source": [
    "pd.DataFrame(df_titanic['Name'].str.lower())"
   ]
  },
  {
   "cell_type": "markdown",
   "id": "bfa84f98",
   "metadata": {},
   "source": [
    "### 데이터프레임 결합"
   ]
  },
  {
   "cell_type": "code",
   "execution_count": 34,
   "id": "b9d4a31d",
   "metadata": {},
   "outputs": [
    {
     "data": {
      "text/html": [
       "<div>\n",
       "<style scoped>\n",
       "    .dataframe tbody tr th:only-of-type {\n",
       "        vertical-align: middle;\n",
       "    }\n",
       "\n",
       "    .dataframe tbody tr th {\n",
       "        vertical-align: top;\n",
       "    }\n",
       "\n",
       "    .dataframe thead th {\n",
       "        text-align: right;\n",
       "    }\n",
       "</style>\n",
       "<table border=\"1\" class=\"dataframe\">\n",
       "  <thead>\n",
       "    <tr style=\"text-align: right;\">\n",
       "      <th></th>\n",
       "      <th>이름</th>\n",
       "      <th>성별</th>\n",
       "      <th>나이</th>\n",
       "    </tr>\n",
       "    <tr>\n",
       "      <th>번호</th>\n",
       "      <th></th>\n",
       "      <th></th>\n",
       "      <th></th>\n",
       "    </tr>\n",
       "  </thead>\n",
       "  <tbody>\n",
       "    <tr>\n",
       "      <th>0</th>\n",
       "      <td>홍길동</td>\n",
       "      <td>남</td>\n",
       "      <td>34</td>\n",
       "    </tr>\n",
       "    <tr>\n",
       "      <th>1</th>\n",
       "      <td>성춘향</td>\n",
       "      <td>여</td>\n",
       "      <td>17</td>\n",
       "    </tr>\n",
       "    <tr>\n",
       "      <th>2</th>\n",
       "      <td>이몽룡</td>\n",
       "      <td>남</td>\n",
       "      <td>16</td>\n",
       "    </tr>\n",
       "  </tbody>\n",
       "</table>\n",
       "</div>"
      ],
      "text/plain": [
       "     이름 성별  나이\n",
       "번호            \n",
       "0   홍길동  남  34\n",
       "1   성춘향  여  17\n",
       "2   이몽룡  남  16"
      ]
     },
     "execution_count": 34,
     "metadata": {},
     "output_type": "execute_result"
    }
   ],
   "source": [
    "df_chosun"
   ]
  },
  {
   "cell_type": "code",
   "execution_count": 33,
   "id": "a28dc99a",
   "metadata": {},
   "outputs": [],
   "source": [
    "df_chosun.index.name='번호'"
   ]
  },
  {
   "cell_type": "code",
   "execution_count": 31,
   "id": "643ed2b9",
   "metadata": {},
   "outputs": [],
   "source": [
    "df_chosun.reset_index(drop=True, inplace=True)"
   ]
  },
  {
   "cell_type": "code",
   "execution_count": 29,
   "id": "8a63931f",
   "metadata": {},
   "outputs": [
    {
     "data": {
      "text/html": [
       "<div>\n",
       "<style scoped>\n",
       "    .dataframe tbody tr th:only-of-type {\n",
       "        vertical-align: middle;\n",
       "    }\n",
       "\n",
       "    .dataframe tbody tr th {\n",
       "        vertical-align: top;\n",
       "    }\n",
       "\n",
       "    .dataframe thead th {\n",
       "        text-align: right;\n",
       "    }\n",
       "</style>\n",
       "<table border=\"1\" class=\"dataframe\">\n",
       "  <thead>\n",
       "    <tr style=\"text-align: right;\">\n",
       "      <th></th>\n",
       "      <th>번호</th>\n",
       "      <th>과일</th>\n",
       "      <th>수량</th>\n",
       "    </tr>\n",
       "  </thead>\n",
       "  <tbody>\n",
       "    <tr>\n",
       "      <th>0</th>\n",
       "      <td>0</td>\n",
       "      <td>망고</td>\n",
       "      <td>34</td>\n",
       "    </tr>\n",
       "    <tr>\n",
       "      <th>1</th>\n",
       "      <td>0</td>\n",
       "      <td>바나나</td>\n",
       "      <td>10</td>\n",
       "    </tr>\n",
       "    <tr>\n",
       "      <th>2</th>\n",
       "      <td>1</td>\n",
       "      <td>체리</td>\n",
       "      <td>3</td>\n",
       "    </tr>\n",
       "    <tr>\n",
       "      <th>3</th>\n",
       "      <td>2</td>\n",
       "      <td>수박</td>\n",
       "      <td>2</td>\n",
       "    </tr>\n",
       "    <tr>\n",
       "      <th>4</th>\n",
       "      <td>0</td>\n",
       "      <td>망고</td>\n",
       "      <td>10</td>\n",
       "    </tr>\n",
       "    <tr>\n",
       "      <th>5</th>\n",
       "      <td>3</td>\n",
       "      <td>참외</td>\n",
       "      <td>1</td>\n",
       "    </tr>\n",
       "    <tr>\n",
       "      <th>6</th>\n",
       "      <td>1</td>\n",
       "      <td>사과</td>\n",
       "      <td>53</td>\n",
       "    </tr>\n",
       "    <tr>\n",
       "      <th>7</th>\n",
       "      <td>4</td>\n",
       "      <td>귤</td>\n",
       "      <td>50</td>\n",
       "    </tr>\n",
       "    <tr>\n",
       "      <th>8</th>\n",
       "      <td>2</td>\n",
       "      <td>복숭아</td>\n",
       "      <td>25</td>\n",
       "    </tr>\n",
       "  </tbody>\n",
       "</table>\n",
       "</div>"
      ],
      "text/plain": [
       "   번호   과일  수량\n",
       "0   0   망고  34\n",
       "1   0  바나나  10\n",
       "2   1   체리   3\n",
       "3   2   수박   2\n",
       "4   0   망고  10\n",
       "5   3   참외   1\n",
       "6   1   사과  53\n",
       "7   4    귤  50\n",
       "8   2  복숭아  25"
      ]
     },
     "execution_count": 29,
     "metadata": {},
     "output_type": "execute_result"
    }
   ],
   "source": [
    "df_fruit = pd.DataFrame([[0,'망고',34],\n",
    "                         [0,'바나나',10],\n",
    "                         [1,'체리',3],\n",
    "                         [2,'수박',2],\n",
    "                         [0,'망고',10],\n",
    "                         [3,'참외',1],\n",
    "                         [1,'사과',53],\n",
    "                         [4,'귤',50],\n",
    "                         [2,'복숭아',25]], columns=['번호','과일','수량'])\n",
    "df_fruit"
   ]
  },
  {
   "cell_type": "code",
   "execution_count": 35,
   "id": "6fa1a067",
   "metadata": {},
   "outputs": [
    {
     "data": {
      "text/html": [
       "<div>\n",
       "<style scoped>\n",
       "    .dataframe tbody tr th:only-of-type {\n",
       "        vertical-align: middle;\n",
       "    }\n",
       "\n",
       "    .dataframe tbody tr th {\n",
       "        vertical-align: top;\n",
       "    }\n",
       "\n",
       "    .dataframe thead th {\n",
       "        text-align: right;\n",
       "    }\n",
       "</style>\n",
       "<table border=\"1\" class=\"dataframe\">\n",
       "  <thead>\n",
       "    <tr style=\"text-align: right;\">\n",
       "      <th></th>\n",
       "      <th>번호</th>\n",
       "      <th>이름</th>\n",
       "      <th>성별</th>\n",
       "      <th>나이</th>\n",
       "      <th>과일</th>\n",
       "      <th>수량</th>\n",
       "    </tr>\n",
       "  </thead>\n",
       "  <tbody>\n",
       "    <tr>\n",
       "      <th>0</th>\n",
       "      <td>0</td>\n",
       "      <td>홍길동</td>\n",
       "      <td>남</td>\n",
       "      <td>34</td>\n",
       "      <td>망고</td>\n",
       "      <td>34</td>\n",
       "    </tr>\n",
       "    <tr>\n",
       "      <th>1</th>\n",
       "      <td>0</td>\n",
       "      <td>홍길동</td>\n",
       "      <td>남</td>\n",
       "      <td>34</td>\n",
       "      <td>바나나</td>\n",
       "      <td>10</td>\n",
       "    </tr>\n",
       "    <tr>\n",
       "      <th>2</th>\n",
       "      <td>0</td>\n",
       "      <td>홍길동</td>\n",
       "      <td>남</td>\n",
       "      <td>34</td>\n",
       "      <td>망고</td>\n",
       "      <td>10</td>\n",
       "    </tr>\n",
       "    <tr>\n",
       "      <th>3</th>\n",
       "      <td>1</td>\n",
       "      <td>성춘향</td>\n",
       "      <td>여</td>\n",
       "      <td>17</td>\n",
       "      <td>체리</td>\n",
       "      <td>3</td>\n",
       "    </tr>\n",
       "    <tr>\n",
       "      <th>4</th>\n",
       "      <td>1</td>\n",
       "      <td>성춘향</td>\n",
       "      <td>여</td>\n",
       "      <td>17</td>\n",
       "      <td>사과</td>\n",
       "      <td>53</td>\n",
       "    </tr>\n",
       "    <tr>\n",
       "      <th>5</th>\n",
       "      <td>2</td>\n",
       "      <td>이몽룡</td>\n",
       "      <td>남</td>\n",
       "      <td>16</td>\n",
       "      <td>수박</td>\n",
       "      <td>2</td>\n",
       "    </tr>\n",
       "    <tr>\n",
       "      <th>6</th>\n",
       "      <td>2</td>\n",
       "      <td>이몽룡</td>\n",
       "      <td>남</td>\n",
       "      <td>16</td>\n",
       "      <td>복숭아</td>\n",
       "      <td>25</td>\n",
       "    </tr>\n",
       "  </tbody>\n",
       "</table>\n",
       "</div>"
      ],
      "text/plain": [
       "   번호   이름 성별  나이   과일  수량\n",
       "0   0  홍길동  남  34   망고  34\n",
       "1   0  홍길동  남  34  바나나  10\n",
       "2   0  홍길동  남  34   망고  10\n",
       "3   1  성춘향  여  17   체리   3\n",
       "4   1  성춘향  여  17   사과  53\n",
       "5   2  이몽룡  남  16   수박   2\n",
       "6   2  이몽룡  남  16  복숭아  25"
      ]
     },
     "execution_count": 35,
     "metadata": {},
     "output_type": "execute_result"
    }
   ],
   "source": [
    "pd.merge(df_chosun, df_fruit, on='번호', how='inner')"
   ]
  },
  {
   "cell_type": "code",
   "execution_count": 36,
   "id": "2826dc36",
   "metadata": {},
   "outputs": [
    {
     "data": {
      "text/html": [
       "<div>\n",
       "<style scoped>\n",
       "    .dataframe tbody tr th:only-of-type {\n",
       "        vertical-align: middle;\n",
       "    }\n",
       "\n",
       "    .dataframe tbody tr th {\n",
       "        vertical-align: top;\n",
       "    }\n",
       "\n",
       "    .dataframe thead th {\n",
       "        text-align: right;\n",
       "    }\n",
       "</style>\n",
       "<table border=\"1\" class=\"dataframe\">\n",
       "  <thead>\n",
       "    <tr style=\"text-align: right;\">\n",
       "      <th></th>\n",
       "      <th>번호</th>\n",
       "      <th>이름</th>\n",
       "      <th>성별</th>\n",
       "      <th>나이</th>\n",
       "      <th>과일</th>\n",
       "      <th>수량</th>\n",
       "    </tr>\n",
       "  </thead>\n",
       "  <tbody>\n",
       "    <tr>\n",
       "      <th>0</th>\n",
       "      <td>0</td>\n",
       "      <td>홍길동</td>\n",
       "      <td>남</td>\n",
       "      <td>34.0</td>\n",
       "      <td>망고</td>\n",
       "      <td>34</td>\n",
       "    </tr>\n",
       "    <tr>\n",
       "      <th>1</th>\n",
       "      <td>0</td>\n",
       "      <td>홍길동</td>\n",
       "      <td>남</td>\n",
       "      <td>34.0</td>\n",
       "      <td>바나나</td>\n",
       "      <td>10</td>\n",
       "    </tr>\n",
       "    <tr>\n",
       "      <th>2</th>\n",
       "      <td>0</td>\n",
       "      <td>홍길동</td>\n",
       "      <td>남</td>\n",
       "      <td>34.0</td>\n",
       "      <td>망고</td>\n",
       "      <td>10</td>\n",
       "    </tr>\n",
       "    <tr>\n",
       "      <th>3</th>\n",
       "      <td>1</td>\n",
       "      <td>성춘향</td>\n",
       "      <td>여</td>\n",
       "      <td>17.0</td>\n",
       "      <td>체리</td>\n",
       "      <td>3</td>\n",
       "    </tr>\n",
       "    <tr>\n",
       "      <th>4</th>\n",
       "      <td>1</td>\n",
       "      <td>성춘향</td>\n",
       "      <td>여</td>\n",
       "      <td>17.0</td>\n",
       "      <td>사과</td>\n",
       "      <td>53</td>\n",
       "    </tr>\n",
       "    <tr>\n",
       "      <th>5</th>\n",
       "      <td>2</td>\n",
       "      <td>이몽룡</td>\n",
       "      <td>남</td>\n",
       "      <td>16.0</td>\n",
       "      <td>수박</td>\n",
       "      <td>2</td>\n",
       "    </tr>\n",
       "    <tr>\n",
       "      <th>6</th>\n",
       "      <td>2</td>\n",
       "      <td>이몽룡</td>\n",
       "      <td>남</td>\n",
       "      <td>16.0</td>\n",
       "      <td>복숭아</td>\n",
       "      <td>25</td>\n",
       "    </tr>\n",
       "    <tr>\n",
       "      <th>7</th>\n",
       "      <td>3</td>\n",
       "      <td>NaN</td>\n",
       "      <td>NaN</td>\n",
       "      <td>NaN</td>\n",
       "      <td>참외</td>\n",
       "      <td>1</td>\n",
       "    </tr>\n",
       "    <tr>\n",
       "      <th>8</th>\n",
       "      <td>4</td>\n",
       "      <td>NaN</td>\n",
       "      <td>NaN</td>\n",
       "      <td>NaN</td>\n",
       "      <td>귤</td>\n",
       "      <td>50</td>\n",
       "    </tr>\n",
       "  </tbody>\n",
       "</table>\n",
       "</div>"
      ],
      "text/plain": [
       "   번호   이름   성별    나이   과일  수량\n",
       "0   0  홍길동    남  34.0   망고  34\n",
       "1   0  홍길동    남  34.0  바나나  10\n",
       "2   0  홍길동    남  34.0   망고  10\n",
       "3   1  성춘향    여  17.0   체리   3\n",
       "4   1  성춘향    여  17.0   사과  53\n",
       "5   2  이몽룡    남  16.0   수박   2\n",
       "6   2  이몽룡    남  16.0  복숭아  25\n",
       "7   3  NaN  NaN   NaN   참외   1\n",
       "8   4  NaN  NaN   NaN    귤  50"
      ]
     },
     "execution_count": 36,
     "metadata": {},
     "output_type": "execute_result"
    }
   ],
   "source": [
    "pd.merge(df_chosun, df_fruit, on='번호', how='outer')"
   ]
  },
  {
   "cell_type": "code",
   "execution_count": 37,
   "id": "2cd8483d",
   "metadata": {},
   "outputs": [
    {
     "data": {
      "text/html": [
       "<div>\n",
       "<style scoped>\n",
       "    .dataframe tbody tr th:only-of-type {\n",
       "        vertical-align: middle;\n",
       "    }\n",
       "\n",
       "    .dataframe tbody tr th {\n",
       "        vertical-align: top;\n",
       "    }\n",
       "\n",
       "    .dataframe thead th {\n",
       "        text-align: right;\n",
       "    }\n",
       "</style>\n",
       "<table border=\"1\" class=\"dataframe\">\n",
       "  <thead>\n",
       "    <tr style=\"text-align: right;\">\n",
       "      <th></th>\n",
       "      <th>번호</th>\n",
       "      <th>이름</th>\n",
       "      <th>성별</th>\n",
       "      <th>나이</th>\n",
       "      <th>과일</th>\n",
       "      <th>수량</th>\n",
       "    </tr>\n",
       "  </thead>\n",
       "  <tbody>\n",
       "    <tr>\n",
       "      <th>0</th>\n",
       "      <td>0</td>\n",
       "      <td>홍길동</td>\n",
       "      <td>남</td>\n",
       "      <td>34</td>\n",
       "      <td>망고</td>\n",
       "      <td>34</td>\n",
       "    </tr>\n",
       "    <tr>\n",
       "      <th>1</th>\n",
       "      <td>0</td>\n",
       "      <td>홍길동</td>\n",
       "      <td>남</td>\n",
       "      <td>34</td>\n",
       "      <td>바나나</td>\n",
       "      <td>10</td>\n",
       "    </tr>\n",
       "    <tr>\n",
       "      <th>2</th>\n",
       "      <td>0</td>\n",
       "      <td>홍길동</td>\n",
       "      <td>남</td>\n",
       "      <td>34</td>\n",
       "      <td>망고</td>\n",
       "      <td>10</td>\n",
       "    </tr>\n",
       "    <tr>\n",
       "      <th>3</th>\n",
       "      <td>1</td>\n",
       "      <td>성춘향</td>\n",
       "      <td>여</td>\n",
       "      <td>17</td>\n",
       "      <td>체리</td>\n",
       "      <td>3</td>\n",
       "    </tr>\n",
       "    <tr>\n",
       "      <th>4</th>\n",
       "      <td>1</td>\n",
       "      <td>성춘향</td>\n",
       "      <td>여</td>\n",
       "      <td>17</td>\n",
       "      <td>사과</td>\n",
       "      <td>53</td>\n",
       "    </tr>\n",
       "    <tr>\n",
       "      <th>5</th>\n",
       "      <td>2</td>\n",
       "      <td>이몽룡</td>\n",
       "      <td>남</td>\n",
       "      <td>16</td>\n",
       "      <td>수박</td>\n",
       "      <td>2</td>\n",
       "    </tr>\n",
       "    <tr>\n",
       "      <th>6</th>\n",
       "      <td>2</td>\n",
       "      <td>이몽룡</td>\n",
       "      <td>남</td>\n",
       "      <td>16</td>\n",
       "      <td>복숭아</td>\n",
       "      <td>25</td>\n",
       "    </tr>\n",
       "  </tbody>\n",
       "</table>\n",
       "</div>"
      ],
      "text/plain": [
       "   번호   이름 성별  나이   과일  수량\n",
       "0   0  홍길동  남  34   망고  34\n",
       "1   0  홍길동  남  34  바나나  10\n",
       "2   0  홍길동  남  34   망고  10\n",
       "3   1  성춘향  여  17   체리   3\n",
       "4   1  성춘향  여  17   사과  53\n",
       "5   2  이몽룡  남  16   수박   2\n",
       "6   2  이몽룡  남  16  복숭아  25"
      ]
     },
     "execution_count": 37,
     "metadata": {},
     "output_type": "execute_result"
    }
   ],
   "source": [
    "pd.merge(df_chosun, df_fruit, on='번호', how='left')"
   ]
  },
  {
   "cell_type": "code",
   "execution_count": 38,
   "id": "bad3b446",
   "metadata": {},
   "outputs": [
    {
     "data": {
      "text/html": [
       "<div>\n",
       "<style scoped>\n",
       "    .dataframe tbody tr th:only-of-type {\n",
       "        vertical-align: middle;\n",
       "    }\n",
       "\n",
       "    .dataframe tbody tr th {\n",
       "        vertical-align: top;\n",
       "    }\n",
       "\n",
       "    .dataframe thead th {\n",
       "        text-align: right;\n",
       "    }\n",
       "</style>\n",
       "<table border=\"1\" class=\"dataframe\">\n",
       "  <thead>\n",
       "    <tr style=\"text-align: right;\">\n",
       "      <th></th>\n",
       "      <th>번호</th>\n",
       "      <th>이름</th>\n",
       "      <th>성별</th>\n",
       "      <th>나이</th>\n",
       "      <th>과일</th>\n",
       "      <th>수량</th>\n",
       "    </tr>\n",
       "  </thead>\n",
       "  <tbody>\n",
       "    <tr>\n",
       "      <th>0</th>\n",
       "      <td>0</td>\n",
       "      <td>홍길동</td>\n",
       "      <td>남</td>\n",
       "      <td>34.0</td>\n",
       "      <td>망고</td>\n",
       "      <td>34</td>\n",
       "    </tr>\n",
       "    <tr>\n",
       "      <th>1</th>\n",
       "      <td>0</td>\n",
       "      <td>홍길동</td>\n",
       "      <td>남</td>\n",
       "      <td>34.0</td>\n",
       "      <td>바나나</td>\n",
       "      <td>10</td>\n",
       "    </tr>\n",
       "    <tr>\n",
       "      <th>2</th>\n",
       "      <td>1</td>\n",
       "      <td>성춘향</td>\n",
       "      <td>여</td>\n",
       "      <td>17.0</td>\n",
       "      <td>체리</td>\n",
       "      <td>3</td>\n",
       "    </tr>\n",
       "    <tr>\n",
       "      <th>3</th>\n",
       "      <td>2</td>\n",
       "      <td>이몽룡</td>\n",
       "      <td>남</td>\n",
       "      <td>16.0</td>\n",
       "      <td>수박</td>\n",
       "      <td>2</td>\n",
       "    </tr>\n",
       "    <tr>\n",
       "      <th>4</th>\n",
       "      <td>0</td>\n",
       "      <td>홍길동</td>\n",
       "      <td>남</td>\n",
       "      <td>34.0</td>\n",
       "      <td>망고</td>\n",
       "      <td>10</td>\n",
       "    </tr>\n",
       "    <tr>\n",
       "      <th>5</th>\n",
       "      <td>3</td>\n",
       "      <td>NaN</td>\n",
       "      <td>NaN</td>\n",
       "      <td>NaN</td>\n",
       "      <td>참외</td>\n",
       "      <td>1</td>\n",
       "    </tr>\n",
       "    <tr>\n",
       "      <th>6</th>\n",
       "      <td>1</td>\n",
       "      <td>성춘향</td>\n",
       "      <td>여</td>\n",
       "      <td>17.0</td>\n",
       "      <td>사과</td>\n",
       "      <td>53</td>\n",
       "    </tr>\n",
       "    <tr>\n",
       "      <th>7</th>\n",
       "      <td>4</td>\n",
       "      <td>NaN</td>\n",
       "      <td>NaN</td>\n",
       "      <td>NaN</td>\n",
       "      <td>귤</td>\n",
       "      <td>50</td>\n",
       "    </tr>\n",
       "    <tr>\n",
       "      <th>8</th>\n",
       "      <td>2</td>\n",
       "      <td>이몽룡</td>\n",
       "      <td>남</td>\n",
       "      <td>16.0</td>\n",
       "      <td>복숭아</td>\n",
       "      <td>25</td>\n",
       "    </tr>\n",
       "  </tbody>\n",
       "</table>\n",
       "</div>"
      ],
      "text/plain": [
       "   번호   이름   성별    나이   과일  수량\n",
       "0   0  홍길동    남  34.0   망고  34\n",
       "1   0  홍길동    남  34.0  바나나  10\n",
       "2   1  성춘향    여  17.0   체리   3\n",
       "3   2  이몽룡    남  16.0   수박   2\n",
       "4   0  홍길동    남  34.0   망고  10\n",
       "5   3  NaN  NaN   NaN   참외   1\n",
       "6   1  성춘향    여  17.0   사과  53\n",
       "7   4  NaN  NaN   NaN    귤  50\n",
       "8   2  이몽룡    남  16.0  복숭아  25"
      ]
     },
     "execution_count": 38,
     "metadata": {},
     "output_type": "execute_result"
    }
   ],
   "source": [
    "pd.merge(df_chosun, df_fruit, on='번호', how='right')"
   ]
  },
  {
   "cell_type": "code",
   "execution_count": 41,
   "id": "d1dfa3b5",
   "metadata": {},
   "outputs": [
    {
     "data": {
      "text/html": [
       "<div>\n",
       "<style scoped>\n",
       "    .dataframe tbody tr th:only-of-type {\n",
       "        vertical-align: middle;\n",
       "    }\n",
       "\n",
       "    .dataframe tbody tr th {\n",
       "        vertical-align: top;\n",
       "    }\n",
       "\n",
       "    .dataframe thead th {\n",
       "        text-align: right;\n",
       "    }\n",
       "</style>\n",
       "<table border=\"1\" class=\"dataframe\">\n",
       "  <thead>\n",
       "    <tr style=\"text-align: right;\">\n",
       "      <th></th>\n",
       "      <th>번호</th>\n",
       "      <th>이름</th>\n",
       "      <th>성별</th>\n",
       "      <th>나이</th>\n",
       "      <th>과일</th>\n",
       "      <th>수량</th>\n",
       "    </tr>\n",
       "  </thead>\n",
       "  <tbody>\n",
       "    <tr>\n",
       "      <th>0</th>\n",
       "      <td>0</td>\n",
       "      <td>홍길동</td>\n",
       "      <td>남</td>\n",
       "      <td>34</td>\n",
       "      <td>망고</td>\n",
       "      <td>34</td>\n",
       "    </tr>\n",
       "  </tbody>\n",
       "</table>\n",
       "</div>"
      ],
      "text/plain": [
       "   번호   이름 성별  나이  과일  수량\n",
       "0   0  홍길동  남  34  망고  34"
      ]
     },
     "execution_count": 41,
     "metadata": {},
     "output_type": "execute_result"
    }
   ],
   "source": [
    "pd.merge(df_chosun, df_fruit, left_on=['번호','나이'], right_on=['번호','수량'], how='inner')"
   ]
  },
  {
   "cell_type": "code",
   "execution_count": 39,
   "id": "2db6a3c9",
   "metadata": {},
   "outputs": [
    {
     "data": {
      "text/html": [
       "<div>\n",
       "<style scoped>\n",
       "    .dataframe tbody tr th:only-of-type {\n",
       "        vertical-align: middle;\n",
       "    }\n",
       "\n",
       "    .dataframe tbody tr th {\n",
       "        vertical-align: top;\n",
       "    }\n",
       "\n",
       "    .dataframe thead th {\n",
       "        text-align: right;\n",
       "    }\n",
       "</style>\n",
       "<table border=\"1\" class=\"dataframe\">\n",
       "  <thead>\n",
       "    <tr style=\"text-align: right;\">\n",
       "      <th></th>\n",
       "      <th>이름</th>\n",
       "      <th>성별</th>\n",
       "      <th>나이</th>\n",
       "    </tr>\n",
       "    <tr>\n",
       "      <th>번호</th>\n",
       "      <th></th>\n",
       "      <th></th>\n",
       "      <th></th>\n",
       "    </tr>\n",
       "  </thead>\n",
       "  <tbody>\n",
       "    <tr>\n",
       "      <th>0</th>\n",
       "      <td>홍길동</td>\n",
       "      <td>남</td>\n",
       "      <td>34</td>\n",
       "    </tr>\n",
       "    <tr>\n",
       "      <th>1</th>\n",
       "      <td>성춘향</td>\n",
       "      <td>여</td>\n",
       "      <td>17</td>\n",
       "    </tr>\n",
       "    <tr>\n",
       "      <th>2</th>\n",
       "      <td>이몽룡</td>\n",
       "      <td>남</td>\n",
       "      <td>16</td>\n",
       "    </tr>\n",
       "  </tbody>\n",
       "</table>\n",
       "</div>"
      ],
      "text/plain": [
       "     이름 성별  나이\n",
       "번호            \n",
       "0   홍길동  남  34\n",
       "1   성춘향  여  17\n",
       "2   이몽룡  남  16"
      ]
     },
     "execution_count": 39,
     "metadata": {},
     "output_type": "execute_result"
    }
   ],
   "source": [
    "df_chosun"
   ]
  },
  {
   "cell_type": "code",
   "execution_count": 40,
   "id": "37cc7dd5",
   "metadata": {},
   "outputs": [
    {
     "data": {
      "text/html": [
       "<div>\n",
       "<style scoped>\n",
       "    .dataframe tbody tr th:only-of-type {\n",
       "        vertical-align: middle;\n",
       "    }\n",
       "\n",
       "    .dataframe tbody tr th {\n",
       "        vertical-align: top;\n",
       "    }\n",
       "\n",
       "    .dataframe thead th {\n",
       "        text-align: right;\n",
       "    }\n",
       "</style>\n",
       "<table border=\"1\" class=\"dataframe\">\n",
       "  <thead>\n",
       "    <tr style=\"text-align: right;\">\n",
       "      <th></th>\n",
       "      <th>번호</th>\n",
       "      <th>과일</th>\n",
       "      <th>수량</th>\n",
       "    </tr>\n",
       "  </thead>\n",
       "  <tbody>\n",
       "    <tr>\n",
       "      <th>0</th>\n",
       "      <td>0</td>\n",
       "      <td>망고</td>\n",
       "      <td>34</td>\n",
       "    </tr>\n",
       "    <tr>\n",
       "      <th>1</th>\n",
       "      <td>0</td>\n",
       "      <td>바나나</td>\n",
       "      <td>10</td>\n",
       "    </tr>\n",
       "    <tr>\n",
       "      <th>2</th>\n",
       "      <td>1</td>\n",
       "      <td>체리</td>\n",
       "      <td>3</td>\n",
       "    </tr>\n",
       "    <tr>\n",
       "      <th>3</th>\n",
       "      <td>2</td>\n",
       "      <td>수박</td>\n",
       "      <td>2</td>\n",
       "    </tr>\n",
       "    <tr>\n",
       "      <th>4</th>\n",
       "      <td>0</td>\n",
       "      <td>망고</td>\n",
       "      <td>10</td>\n",
       "    </tr>\n",
       "    <tr>\n",
       "      <th>5</th>\n",
       "      <td>3</td>\n",
       "      <td>참외</td>\n",
       "      <td>1</td>\n",
       "    </tr>\n",
       "    <tr>\n",
       "      <th>6</th>\n",
       "      <td>1</td>\n",
       "      <td>사과</td>\n",
       "      <td>53</td>\n",
       "    </tr>\n",
       "    <tr>\n",
       "      <th>7</th>\n",
       "      <td>4</td>\n",
       "      <td>귤</td>\n",
       "      <td>50</td>\n",
       "    </tr>\n",
       "    <tr>\n",
       "      <th>8</th>\n",
       "      <td>2</td>\n",
       "      <td>복숭아</td>\n",
       "      <td>25</td>\n",
       "    </tr>\n",
       "  </tbody>\n",
       "</table>\n",
       "</div>"
      ],
      "text/plain": [
       "   번호   과일  수량\n",
       "0   0   망고  34\n",
       "1   0  바나나  10\n",
       "2   1   체리   3\n",
       "3   2   수박   2\n",
       "4   0   망고  10\n",
       "5   3   참외   1\n",
       "6   1   사과  53\n",
       "7   4    귤  50\n",
       "8   2  복숭아  25"
      ]
     },
     "execution_count": 40,
     "metadata": {},
     "output_type": "execute_result"
    }
   ],
   "source": [
    "df_fruit"
   ]
  },
  {
   "cell_type": "markdown",
   "id": "af220334",
   "metadata": {},
   "source": [
    "### 부분합 (Partial Aggregation)"
   ]
  },
  {
   "cell_type": "code",
   "execution_count": null,
   "id": "b2f1025a",
   "metadata": {},
   "outputs": [],
   "source": [
    "df_titanic.groupby('Pclass')['PassengerId','Survived'].sum()"
   ]
  },
  {
   "cell_type": "code",
   "execution_count": null,
   "id": "acacb30a",
   "metadata": {},
   "outputs": [],
   "source": [
    "df_titanic['PassengerId'] = df_titanic['PassengerId'].astype(str)"
   ]
  },
  {
   "cell_type": "code",
   "execution_count": null,
   "id": "a6a4fb4d",
   "metadata": {},
   "outputs": [],
   "source": [
    "df_titanic.groupby('Pclass')['PassengerId','Survived'].sum()"
   ]
  },
  {
   "cell_type": "code",
   "execution_count": null,
   "id": "f7060b27",
   "metadata": {},
   "outputs": [],
   "source": [
    "df_titanic.groupby(['Pclass','Sex']).mean()"
   ]
  },
  {
   "cell_type": "code",
   "execution_count": null,
   "id": "4cfe08b9",
   "metadata": {},
   "outputs": [],
   "source": [
    "df_titanic.groupby(['Survived', 'Sex'])[['Age','Fare']].aggregate([np.max, np.mean, np.min])"
   ]
  },
  {
   "cell_type": "code",
   "execution_count": null,
   "id": "3f192fc9",
   "metadata": {},
   "outputs": [],
   "source": [
    "pd.DataFrame(df_titanic.groupby(['Survived', 'Sex'])['Age'].aggregate(np.max))"
   ]
  },
  {
   "cell_type": "code",
   "execution_count": null,
   "id": "668999d1",
   "metadata": {},
   "outputs": [],
   "source": [
    "df = pd.DataFrame({'부서': np.random.choice(['HR', 'Finance', 'IT', 'Sales'], 100),\n",
    "                   '날짜': pd.date_range(start='2024-01-01', periods=100, freq='D'),\n",
    "                   '매출': np.random.randint(1000, 5000, 100)})\n",
    "df"
   ]
  },
  {
   "cell_type": "code",
   "execution_count": null,
   "id": "74237e73",
   "metadata": {},
   "outputs": [],
   "source": [
    "df.groupby(['부서','날짜'])['매출'].aggregate([np.max, np.mean, np.min])"
   ]
  },
  {
   "cell_type": "markdown",
   "id": "5301f14a",
   "metadata": {},
   "source": [
    "### 교차표 (Crosstab)"
   ]
  },
  {
   "cell_type": "code",
   "execution_count": null,
   "id": "0921379d",
   "metadata": {},
   "outputs": [],
   "source": [
    "pd.crosstab(df_titanic['Sex'],df_titanic['Survived'])"
   ]
  },
  {
   "cell_type": "code",
   "execution_count": null,
   "id": "9770b0b1",
   "metadata": {},
   "outputs": [],
   "source": [
    "pd.crosstab(df_titanic['Sex'],df_titanic['Survived'], normalize='all')"
   ]
  },
  {
   "cell_type": "code",
   "execution_count": null,
   "id": "a1f6a6e4",
   "metadata": {},
   "outputs": [],
   "source": [
    "pd.crosstab(df_titanic['Sex'],df_titanic['Survived'], normalize='all', margins=True)"
   ]
  },
  {
   "cell_type": "code",
   "execution_count": null,
   "id": "297861ed",
   "metadata": {},
   "outputs": [],
   "source": [
    "pd.crosstab(df_titanic['Sex'],df_titanic['Survived'], normalize='index', margins=True)"
   ]
  },
  {
   "cell_type": "code",
   "execution_count": null,
   "id": "d480f988",
   "metadata": {},
   "outputs": [],
   "source": [
    "pd.crosstab(df_titanic['Sex'],df_titanic['Survived'], normalize='columns', margins=True)"
   ]
  },
  {
   "cell_type": "code",
   "execution_count": null,
   "id": "4f1e8a24",
   "metadata": {},
   "outputs": [],
   "source": [
    "pd.crosstab(index=[df_titanic['Sex'],df_titanic['Pclass']], \n",
    "            columns=[df_titanic['Embarked'],df_titanic['Survived']], \n",
    "            normalize='all', margins=True)"
   ]
  },
  {
   "cell_type": "markdown",
   "id": "c4b031d5",
   "metadata": {},
   "source": [
    "### 피봇 테이블 (Pivot Table)"
   ]
  },
  {
   "cell_type": "code",
   "execution_count": null,
   "id": "fa06b975",
   "metadata": {},
   "outputs": [],
   "source": [
    "pd.pivot_table(df_titanic, index=['Survived','Sex'], columns='Pclass', values='Age', aggfunc='mean')"
   ]
  },
  {
   "cell_type": "code",
   "execution_count": null,
   "id": "4b18c1cc",
   "metadata": {},
   "outputs": [],
   "source": [
    "pd.pivot_table(df_titanic, index=['Survived','Sex'], columns='Pclass', values=['Age','Fare'], aggfunc='min', margins=True)"
   ]
  },
  {
   "cell_type": "code",
   "execution_count": null,
   "id": "e3c61eb2",
   "metadata": {},
   "outputs": [],
   "source": [
    "df_titanic_pivot = pd.pivot_table(df_titanic,index=['Sex','Pclass'], \n",
    "                                  columns=['Survived','Embarked'], \n",
    "                                  values='Fare', aggfunc='mean', margins=True)\n",
    "df_titanic_pivot"
   ]
  },
  {
   "cell_type": "code",
   "execution_count": null,
   "id": "f57e7ce2",
   "metadata": {},
   "outputs": [],
   "source": [
    "df_titanic_pivot = df_titanic_pivot.stack(0)\n",
    "df_titanic_pivot"
   ]
  },
  {
   "cell_type": "code",
   "execution_count": null,
   "id": "5f8ae964",
   "metadata": {},
   "outputs": [],
   "source": [
    "df_titanic_pivot = df_titanic_pivot.unstack(1)\n",
    "df_titanic_pivot"
   ]
  },
  {
   "cell_type": "code",
   "execution_count": null,
   "id": "18b2655e",
   "metadata": {},
   "outputs": [],
   "source": [
    "df_chosun"
   ]
  },
  {
   "cell_type": "code",
   "execution_count": null,
   "id": "32b46ac0",
   "metadata": {},
   "outputs": [],
   "source": [
    "pd.melt(df_chosun, id_vars=['성명'])"
   ]
  },
  {
   "cell_type": "code",
   "execution_count": null,
   "id": "dcf620c1",
   "metadata": {},
   "outputs": [],
   "source": [
    "pd.melt(df_chosun, id_vars=['성명'], var_name='항목', value_name='값')"
   ]
  },
  {
   "cell_type": "markdown",
   "id": "adddedcb",
   "metadata": {},
   "source": [
    "### Metplotlib 와 Seaborn 을 활용한 시각화"
   ]
  },
  {
   "cell_type": "code",
   "execution_count": null,
   "id": "b2cc01fe",
   "metadata": {},
   "outputs": [],
   "source": [
    "sns.set_style('whitegrid')\n",
    "sns.set_palette('GnBu_r')"
   ]
  },
  {
   "cell_type": "markdown",
   "id": "6b7ca790",
   "metadata": {},
   "source": [
    "#### 막대그래프"
   ]
  },
  {
   "cell_type": "code",
   "execution_count": null,
   "id": "7dad40d4",
   "metadata": {},
   "outputs": [],
   "source": [
    "import platform\n",
    "if platform.system() == 'Windows' :\n",
    "    plt.rc('font',family='Malgun Gothic')\n",
    "    plt.rcParams['font.size']=9\n",
    "    plt.rcParams['figure.figsize']=(10,5)"
   ]
  },
  {
   "cell_type": "code",
   "execution_count": null,
   "id": "3e143463",
   "metadata": {},
   "outputs": [],
   "source": [
    "plt.figure(figsize=(5,3))\n",
    "sns.barplot(data=df_titanic, x='Pclass', y='Survived', order=[1,2,3], hue='Sex', hue_order=['female','male'])\n",
    "plt.grid(False)\n",
    "plt.ylim(0,1)\n",
    "plt.title('타이타닉 등급별 생존률')\n",
    "plt.ylabel('생존율')\n",
    "plt.xlabel('등급')\n",
    "plt.legend(loc='upper right')\n",
    "plt.xticks(fontsize=8, rotation=0)\n",
    "plt.show()"
   ]
  },
  {
   "cell_type": "markdown",
   "id": "bfca7d19",
   "metadata": {},
   "source": [
    "#### 산점도와 회기선"
   ]
  },
  {
   "cell_type": "code",
   "execution_count": null,
   "id": "38100d83",
   "metadata": {},
   "outputs": [],
   "source": [
    "df = sns.load_dataset('penguins')\n",
    "sns.set_palette('Set1')\n",
    "sns.scatterplot(data=df, x='bill_length_mm', y='bill_depth_mm')\n",
    "plt.show()"
   ]
  },
  {
   "cell_type": "code",
   "execution_count": null,
   "id": "e56abcf4",
   "metadata": {},
   "outputs": [],
   "source": [
    "sns.scatterplot(data=df, x='bill_length_mm', y='bill_depth_mm', hue='sex')\n",
    "plt.show()"
   ]
  },
  {
   "cell_type": "code",
   "execution_count": null,
   "id": "9f1ef405",
   "metadata": {},
   "outputs": [],
   "source": [
    "sns.scatterplot(data=df, x='bill_length_mm', y='bill_depth_mm', hue='sex', style='island')\n",
    "plt.show()"
   ]
  },
  {
   "cell_type": "code",
   "execution_count": null,
   "id": "7e78cf5e",
   "metadata": {},
   "outputs": [],
   "source": [
    "sns.relplot(data=df, x='bill_length_mm', y='bill_depth_mm', hue='sex', col='island', kind='scatter')\n",
    "plt.show()"
   ]
  },
  {
   "cell_type": "code",
   "execution_count": null,
   "id": "2da07ab6",
   "metadata": {},
   "outputs": [],
   "source": [
    "sns.lmplot(data=df, x='bill_length_mm', y='bill_depth_mm', hue='sex')\n",
    "plt.show()"
   ]
  },
  {
   "cell_type": "markdown",
   "id": "d3a199b3",
   "metadata": {},
   "source": [
    "#### 히스토그램"
   ]
  },
  {
   "cell_type": "code",
   "execution_count": null,
   "id": "a56a5e0f",
   "metadata": {},
   "outputs": [],
   "source": [
    "sns.set_palette('Set2')\n",
    "sns.displot(data=df, x='flipper_length_mm')\n",
    "plt.show()"
   ]
  },
  {
   "cell_type": "code",
   "execution_count": null,
   "id": "c716dc7f",
   "metadata": {},
   "outputs": [],
   "source": [
    "sns.displot(data=df, x='flipper_length_mm', kde=True)\n",
    "plt.show()"
   ]
  },
  {
   "cell_type": "code",
   "execution_count": null,
   "id": "4d57d023",
   "metadata": {},
   "outputs": [],
   "source": [
    "sns.set_palette('Set3')\n",
    "sns.displot(data=df, x='flipper_length_mm', kind='kde')\n",
    "plt.show()"
   ]
  },
  {
   "cell_type": "code",
   "execution_count": null,
   "id": "8ae57417",
   "metadata": {},
   "outputs": [],
   "source": [
    "sns.displot(data=df, x='flipper_length_mm', hue='species', kind='kde')\n",
    "plt.show()"
   ]
  },
  {
   "cell_type": "code",
   "execution_count": null,
   "id": "3e843d5d",
   "metadata": {},
   "outputs": [],
   "source": [
    "sns.displot(data=df, x='flipper_length_mm', hue='species', kind='kde', col='sex')\n",
    "plt.show()"
   ]
  },
  {
   "cell_type": "markdown",
   "id": "9d1268bb",
   "metadata": {},
   "source": [
    "#### 상자그림 (Box Plot)"
   ]
  },
  {
   "cell_type": "code",
   "execution_count": null,
   "id": "cd5f1063",
   "metadata": {},
   "outputs": [],
   "source": [
    "sns.set_palette('rainbow_r')\n",
    "sns.boxplot(data=df, x='body_mass_g')\n",
    "plt.show()"
   ]
  },
  {
   "cell_type": "code",
   "execution_count": null,
   "id": "67b8dc75",
   "metadata": {},
   "outputs": [],
   "source": [
    "sns.boxplot(data=df, x='body_mass_g', y='species', hue='sex')\n",
    "plt.show()"
   ]
  },
  {
   "cell_type": "markdown",
   "id": "daeea7b4",
   "metadata": {},
   "source": [
    "#### 연관그래프 (Pair Plot)"
   ]
  },
  {
   "cell_type": "code",
   "execution_count": null,
   "id": "6dd6a49a",
   "metadata": {},
   "outputs": [],
   "source": [
    "sns.pairplot(data=df)\n",
    "plt.show()"
   ]
  },
  {
   "cell_type": "code",
   "execution_count": null,
   "id": "9e6b42b7",
   "metadata": {},
   "outputs": [],
   "source": [
    "sns.pairplot(data=df, hue='species')\n",
    "plt.show()"
   ]
  },
  {
   "cell_type": "markdown",
   "id": "e80efab5",
   "metadata": {},
   "source": [
    "#### 선그래프 (Line Plot)"
   ]
  },
  {
   "cell_type": "code",
   "execution_count": null,
   "id": "b28f5188",
   "metadata": {},
   "outputs": [],
   "source": [
    "sns.set_palette('winter')\n",
    "df = sns.load_dataset('flights')\n",
    "df_may = df.query(\"month == 'May'\")\n",
    "sns.lineplot(data=df_may, x='year', y='passengers')\n",
    "plt.show()"
   ]
  },
  {
   "cell_type": "code",
   "execution_count": null,
   "id": "c664cd81",
   "metadata": {},
   "outputs": [],
   "source": [
    "sns.lineplot(data=df, x='year', y='passengers', hue='month')\n",
    "plt.show()"
   ]
  },
  {
   "cell_type": "markdown",
   "id": "a64a28af",
   "metadata": {},
   "source": [
    "#### 히트맵 (Heatmap)"
   ]
  },
  {
   "cell_type": "code",
   "execution_count": null,
   "id": "07405084",
   "metadata": {},
   "outputs": [],
   "source": [
    "df = df_titanic[['Survived','Age', 'Fare', 'SibSp', 'Pclass']].corr()\n",
    "sns.heatmap(data=df, annot=True, fmt='.2f', cmap='YlOrBr')\n",
    "plt.show()"
   ]
  },
  {
   "cell_type": "code",
   "execution_count": null,
   "id": "5f2d0f50",
   "metadata": {},
   "outputs": [],
   "source": [
    "df = pd.pivot_table(data=df_titanic, index='Sex', columns='Pclass', values='Survived', aggfunc='mean')\n",
    "sns.heatmap(data=df, annot=True, fmt='.2f', cmap='Purples')\n",
    "plt.show()"
   ]
  },
  {
   "cell_type": "markdown",
   "id": "3d5b3221",
   "metadata": {},
   "source": [
    "### 플롯리 익스프레스"
   ]
  },
  {
   "cell_type": "code",
   "execution_count": null,
   "id": "76b8f920",
   "metadata": {},
   "outputs": [],
   "source": [
    "import plotly.express as px"
   ]
  },
  {
   "cell_type": "markdown",
   "id": "42232080",
   "metadata": {},
   "source": [
    "#### 플롯리 산점도 (Plotly Scatter Plot)"
   ]
  },
  {
   "cell_type": "code",
   "execution_count": null,
   "id": "27016253",
   "metadata": {},
   "outputs": [],
   "source": [
    "df = sns.load_dataset('penguins')\n",
    "fig = px.scatter(data_frame=df, x='bill_length_mm', y='bill_depth_mm', \n",
    "                 color_discrete_sequence=px.colors.qualitative.Set2, \n",
    "                 template='plotly_white')\n",
    "fig.show()"
   ]
  },
  {
   "cell_type": "code",
   "execution_count": null,
   "id": "5bd7eb46",
   "metadata": {},
   "outputs": [],
   "source": [
    "fig.write_image('plotly_scatter.png')"
   ]
  },
  {
   "cell_type": "code",
   "execution_count": null,
   "id": "c5815951",
   "metadata": {},
   "outputs": [],
   "source": [
    "fig.write_image('plotly_scatter.jpg')"
   ]
  },
  {
   "cell_type": "code",
   "execution_count": null,
   "id": "dcb43c40",
   "metadata": {},
   "outputs": [],
   "source": [
    "fig.write_image('plotly_scatter.pdf')"
   ]
  },
  {
   "cell_type": "code",
   "execution_count": null,
   "id": "dbe34989",
   "metadata": {},
   "outputs": [],
   "source": [
    "fig.write_html('plotly_scatter.html')"
   ]
  },
  {
   "cell_type": "markdown",
   "id": "50cccf48",
   "metadata": {},
   "source": [
    "### 지도 (Polium)"
   ]
  },
  {
   "cell_type": "code",
   "execution_count": null,
   "id": "376ded37",
   "metadata": {},
   "outputs": [],
   "source": [
    "import folium"
   ]
  },
  {
   "cell_type": "code",
   "execution_count": null,
   "id": "297aaff1",
   "metadata": {},
   "outputs": [],
   "source": [
    "fig = folium.Figure(width=700, height=500)\n",
    "map = folium.Map(location=[37.510781008592716, 127.09607026177875], zoom_start=16).add_to(fig)\n",
    "map"
   ]
  },
  {
   "cell_type": "code",
   "execution_count": null,
   "id": "3901fa8a",
   "metadata": {},
   "outputs": [],
   "source": [
    "folium.Marker([37.510781008592716, 127.09607026177875], tooltip='롯데월드').add_to(map)\n",
    "map"
   ]
  },
  {
   "cell_type": "code",
   "execution_count": null,
   "id": "c3e184eb",
   "metadata": {},
   "outputs": [],
   "source": [
    "folium.Marker([37.510781008592716, 127.09607026177875], \n",
    "              tooltip='롯데월드',\n",
    "              icon=folium.Icon(color='red', icon='star')).add_to(map)\n",
    "map"
   ]
  },
  {
   "cell_type": "code",
   "execution_count": null,
   "id": "6f6509c4",
   "metadata": {},
   "outputs": [],
   "source": [
    "folium.Marker([37.510781008592716, 127.09607026177875], \n",
    "              tooltip='롯데월드',\n",
    "              icon=folium.Icon(color='red', icon='star'),\n",
    "              popup='<iframe src=\"https://www.lottehotel.com/content/dam/lotte-hotel/lotte/world/promotion/package/5592-1440-pkg-LTWO.jpg.thumb.768.768.jpg\" width=\"300\" height=\"200\"></iframe').add_to(map)\n",
    "map"
   ]
  },
  {
   "cell_type": "code",
   "execution_count": null,
   "id": "5c9eb8c2",
   "metadata": {},
   "outputs": [],
   "source": [
    "map.save('folium.html')"
   ]
  },
  {
   "cell_type": "markdown",
   "id": "633e05f0",
   "metadata": {},
   "source": [
    "### 크롤링 (Crawling)"
   ]
  },
  {
   "cell_type": "code",
   "execution_count": null,
   "id": "01266817",
   "metadata": {},
   "outputs": [],
   "source": [
    "import requests\n",
    "from bs4 import BeautifulSoup as bs"
   ]
  },
  {
   "cell_type": "code",
   "execution_count": null,
   "id": "78527903",
   "metadata": {},
   "outputs": [],
   "source": [
    "keyword = '용인'\n",
    "url = f'https://search.naver.com/search.naver?ssc=tab.blog.all&sm=tab_jum&query={keyword}'\n",
    "res = requests.get(url)\n",
    "soup = bs(res.text, 'html.parser')\n",
    "title = [i.text for i in soup.find_all('a', class_='title_link')][:10]\n",
    "date  = [i.text for i in soup.find_all('span', class_='sub')][:10]\n",
    "content = [i.text for i in soup.find_all('a', class_='dsc_link')][:10]\n",
    "df = pd.DataFrame({'title':title, 'date':date, 'content':content})\n",
    "df"
   ]
  },
  {
   "cell_type": "code",
   "execution_count": null,
   "id": "b38318aa",
   "metadata": {},
   "outputs": [],
   "source": [
    "df = df.style.set_properties(**{'text-align': 'left'})\n",
    "df"
   ]
  }
 ],
 "metadata": {
  "kernelspec": {
   "display_name": "Python 3 (ipykernel)",
   "language": "python",
   "name": "python3"
  },
  "language_info": {
   "codemirror_mode": {
    "name": "ipython",
    "version": 3
   },
   "file_extension": ".py",
   "mimetype": "text/x-python",
   "name": "python",
   "nbconvert_exporter": "python",
   "pygments_lexer": "ipython3",
   "version": "3.9.13"
  }
 },
 "nbformat": 4,
 "nbformat_minor": 5
}
